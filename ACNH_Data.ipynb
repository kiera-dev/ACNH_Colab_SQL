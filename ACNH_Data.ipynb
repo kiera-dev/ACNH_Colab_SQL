{
  "nbformat": 4,
  "nbformat_minor": 0,
  "metadata": {
    "colab": {
      "provenance": [],
      "mount_file_id": "1FXt2SrO4LvhDLKTAsHyIAVXbKIMY1-po",
      "authorship_tag": "ABX9TyNxBb8NcXEJrsRmqNwHT0uf",
      "include_colab_link": true
    },
    "kernelspec": {
      "name": "python3",
      "display_name": "Python 3"
    },
    "language_info": {
      "name": "python"
    }
  },
  "cells": [
    {
      "cell_type": "markdown",
      "metadata": {
        "id": "view-in-github",
        "colab_type": "text"
      },
      "source": [
        "<a href=\"https://colab.research.google.com/github/kiera-dev/ACNH_Colab_SQL/blob/main/ACNH_Data.ipynb\" target=\"_parent\"><img src=\"https://colab.research.google.com/assets/colab-badge.svg\" alt=\"Open In Colab\"/></a>"
      ]
    },
    {
      "cell_type": "code",
      "execution_count": 1,
      "metadata": {
        "id": "_05OCrMVcXbh"
      },
      "outputs": [],
      "source": [
        "%%capture\n",
        "!pip install duckdb"
      ]
    },
    {
      "cell_type": "code",
      "source": [
        "import duckdb, os\n",
        "import pandas as pd\n",
        "\n",
        "acnh_villagers_csv_path = \"/content/drive/MyDrive/acnh_data/villagers.csv\"\n",
        "acnh_housewares_csv_path = \"/content/drive/MyDrive/acnh_data/housewares.csv\"\n",
        "\n",
        "if os.path.exists(acnh_villagers_csv_path):\n",
        "  print(f\"Loading Villagers: {acnh_villagers_csv_path}\")\n",
        "  villagers_df = pd.read_csv(acnh_villagers_csv_path)\n",
        "  # villagers_df = villagers_df.rename(columns={\"Favorite Song\": \"favorite_song\"})\n",
        "  villagers_df = villagers_df.rename(columns=lambda x: x.lower().replace(' ', '_'))\n",
        "  print(f\"Loading Furniture: {acnh_housewares_csv_path}\")\n",
        "  housewares_df = pd.read_csv(acnh_housewares_csv_path)\n",
        "  housewares_df = housewares_df.rename(columns=lambda x: x.lower().replace(' ', '_'))\n",
        "else:\n",
        "  print(f\"Derp\")\n",
        "\n",
        "villagers_df\n",
        "housewares_df"
      ],
      "metadata": {
        "colab": {
          "base_uri": "https://localhost:8080/",
          "height": 728
        },
        "id": "0l6QOavSomgH",
        "outputId": "fdad6ac6-bf3e-4715-ca77-2ca67f28f7e4"
      },
      "execution_count": 2,
      "outputs": [
        {
          "output_type": "stream",
          "name": "stdout",
          "text": [
            "Loading Villagers: /content/drive/MyDrive/acnh_data/villagers.csv\n",
            "Loading Furniture: /content/drive/MyDrive/acnh_data/housewares.csv\n"
          ]
        },
        {
          "output_type": "execute_result",
          "data": {
            "text/plain": [
              "                 name      variation body_title pattern pattern_title  diy  \\\n",
              "0     acoustic guitar        Natural       Body     NaN           NaN  Yes   \n",
              "1     acoustic guitar         Cherry       Body     NaN           NaN  Yes   \n",
              "2     acoustic guitar          Brown       Body     NaN           NaN  Yes   \n",
              "3     acoustic guitar           Blue       Body     NaN           NaN  Yes   \n",
              "4     acoustic guitar          White       Body     NaN           NaN  Yes   \n",
              "...               ...            ...        ...     ...           ...  ...   \n",
              "3270  zen-style stone  White granite      Stone     NaN           NaN  Yes   \n",
              "3271  zen-style stone       Andesite      Stone     NaN           NaN  Yes   \n",
              "3272  zen-style stone  Black granite      Stone     NaN           NaN  Yes   \n",
              "3273  zen-style stone  Brown granite      Stone     NaN           NaN  Yes   \n",
              "3274  zen-style stone    Mossy stone      Stone     NaN           NaN  Yes   \n",
              "\n",
              "     body_customize pattern_customize  kit_cost  buy  ...  interact  \\\n",
              "0               Yes                No       5.0  NFS  ...       Yes   \n",
              "1               Yes                No       5.0  NFS  ...       Yes   \n",
              "2               Yes                No       5.0  NFS  ...       Yes   \n",
              "3               Yes                No       5.0  NFS  ...       Yes   \n",
              "4               Yes                No       5.0  NFS  ...       Yes   \n",
              "...             ...               ...       ...  ...  ...       ...   \n",
              "3270            Yes                No       6.0  NFS  ...        No   \n",
              "3271            Yes                No       6.0  NFS  ...        No   \n",
              "3272            Yes                No       6.0  NFS  ...        No   \n",
              "3273            Yes                No       6.0  NFS  ...        No   \n",
              "3274            Yes                No       6.0  NFS  ...        No   \n",
              "\n",
              "                     tag outdoor         speaker_type  lighting_type  \\\n",
              "0     Musical Instrument      No  Does not play music    No lighting   \n",
              "1     Musical Instrument      No  Does not play music    No lighting   \n",
              "2     Musical Instrument      No  Does not play music    No lighting   \n",
              "3     Musical Instrument      No  Does not play music    No lighting   \n",
              "4     Musical Instrument      No  Does not play music    No lighting   \n",
              "...                  ...     ...                  ...            ...   \n",
              "3270      Japanese Style     Yes  Does not play music    No lighting   \n",
              "3271      Japanese Style     Yes  Does not play music    No lighting   \n",
              "3272      Japanese Style     Yes  Does not play music    No lighting   \n",
              "3273      Japanese Style     Yes  Does not play music    No lighting   \n",
              "3274      Japanese Style     Yes  Does not play music    No lighting   \n",
              "\n",
              "           catalog                       filename variant_id internal_id  \\\n",
              "0     Not for sale   FtrAcorsticguitar_Remake_0_0        0_0         383   \n",
              "1     Not for sale   FtrAcorsticguitar_Remake_1_0        1_0         383   \n",
              "2     Not for sale   FtrAcorsticguitar_Remake_2_0        2_0         383   \n",
              "3     Not for sale   FtrAcorsticguitar_Remake_3_0        3_0         383   \n",
              "4     Not for sale   FtrAcorsticguitar_Remake_4_0        4_0         383   \n",
              "...            ...                            ...        ...         ...   \n",
              "3270  Not for sale  FtrGravestoneJapan_Remake_0_0        0_0        7317   \n",
              "3271  Not for sale  FtrGravestoneJapan_Remake_1_0        1_0        7317   \n",
              "3272  Not for sale  FtrGravestoneJapan_Remake_2_0        2_0        7317   \n",
              "3273  Not for sale  FtrGravestoneJapan_Remake_3_0        3_0        7317   \n",
              "3274  Not for sale  FtrGravestoneJapan_Remake_4_0        4_0        7317   \n",
              "\n",
              "        unique_entry_id  \n",
              "0     EpywQXABBcv2dipsP  \n",
              "1     K9she5Y4SuXA8MGBR  \n",
              "2     vLq9iphAvALBXazDr  \n",
              "3     nuqeFzNE5PneqGHaj  \n",
              "4     DotFsojrhCwrLZ3TF  \n",
              "...                 ...  \n",
              "3270  xDuaerhiJuiJnwNDS  \n",
              "3271  YfpPverX5Q2iEwRF2  \n",
              "3272  nrzjikKKpni7sAMir  \n",
              "3273  7qXRema8baxyunhvS  \n",
              "3274  RswDXvSEibYz7Zajy  \n",
              "\n",
              "[3275 rows x 32 columns]"
            ],
            "text/html": [
              "\n",
              "  <div id=\"df-078bc629-b200-4dcf-9ded-f988d77046bb\" class=\"colab-df-container\">\n",
              "    <div>\n",
              "<style scoped>\n",
              "    .dataframe tbody tr th:only-of-type {\n",
              "        vertical-align: middle;\n",
              "    }\n",
              "\n",
              "    .dataframe tbody tr th {\n",
              "        vertical-align: top;\n",
              "    }\n",
              "\n",
              "    .dataframe thead th {\n",
              "        text-align: right;\n",
              "    }\n",
              "</style>\n",
              "<table border=\"1\" class=\"dataframe\">\n",
              "  <thead>\n",
              "    <tr style=\"text-align: right;\">\n",
              "      <th></th>\n",
              "      <th>name</th>\n",
              "      <th>variation</th>\n",
              "      <th>body_title</th>\n",
              "      <th>pattern</th>\n",
              "      <th>pattern_title</th>\n",
              "      <th>diy</th>\n",
              "      <th>body_customize</th>\n",
              "      <th>pattern_customize</th>\n",
              "      <th>kit_cost</th>\n",
              "      <th>buy</th>\n",
              "      <th>...</th>\n",
              "      <th>interact</th>\n",
              "      <th>tag</th>\n",
              "      <th>outdoor</th>\n",
              "      <th>speaker_type</th>\n",
              "      <th>lighting_type</th>\n",
              "      <th>catalog</th>\n",
              "      <th>filename</th>\n",
              "      <th>variant_id</th>\n",
              "      <th>internal_id</th>\n",
              "      <th>unique_entry_id</th>\n",
              "    </tr>\n",
              "  </thead>\n",
              "  <tbody>\n",
              "    <tr>\n",
              "      <th>0</th>\n",
              "      <td>acoustic guitar</td>\n",
              "      <td>Natural</td>\n",
              "      <td>Body</td>\n",
              "      <td>NaN</td>\n",
              "      <td>NaN</td>\n",
              "      <td>Yes</td>\n",
              "      <td>Yes</td>\n",
              "      <td>No</td>\n",
              "      <td>5.0</td>\n",
              "      <td>NFS</td>\n",
              "      <td>...</td>\n",
              "      <td>Yes</td>\n",
              "      <td>Musical Instrument</td>\n",
              "      <td>No</td>\n",
              "      <td>Does not play music</td>\n",
              "      <td>No lighting</td>\n",
              "      <td>Not for sale</td>\n",
              "      <td>FtrAcorsticguitar_Remake_0_0</td>\n",
              "      <td>0_0</td>\n",
              "      <td>383</td>\n",
              "      <td>EpywQXABBcv2dipsP</td>\n",
              "    </tr>\n",
              "    <tr>\n",
              "      <th>1</th>\n",
              "      <td>acoustic guitar</td>\n",
              "      <td>Cherry</td>\n",
              "      <td>Body</td>\n",
              "      <td>NaN</td>\n",
              "      <td>NaN</td>\n",
              "      <td>Yes</td>\n",
              "      <td>Yes</td>\n",
              "      <td>No</td>\n",
              "      <td>5.0</td>\n",
              "      <td>NFS</td>\n",
              "      <td>...</td>\n",
              "      <td>Yes</td>\n",
              "      <td>Musical Instrument</td>\n",
              "      <td>No</td>\n",
              "      <td>Does not play music</td>\n",
              "      <td>No lighting</td>\n",
              "      <td>Not for sale</td>\n",
              "      <td>FtrAcorsticguitar_Remake_1_0</td>\n",
              "      <td>1_0</td>\n",
              "      <td>383</td>\n",
              "      <td>K9she5Y4SuXA8MGBR</td>\n",
              "    </tr>\n",
              "    <tr>\n",
              "      <th>2</th>\n",
              "      <td>acoustic guitar</td>\n",
              "      <td>Brown</td>\n",
              "      <td>Body</td>\n",
              "      <td>NaN</td>\n",
              "      <td>NaN</td>\n",
              "      <td>Yes</td>\n",
              "      <td>Yes</td>\n",
              "      <td>No</td>\n",
              "      <td>5.0</td>\n",
              "      <td>NFS</td>\n",
              "      <td>...</td>\n",
              "      <td>Yes</td>\n",
              "      <td>Musical Instrument</td>\n",
              "      <td>No</td>\n",
              "      <td>Does not play music</td>\n",
              "      <td>No lighting</td>\n",
              "      <td>Not for sale</td>\n",
              "      <td>FtrAcorsticguitar_Remake_2_0</td>\n",
              "      <td>2_0</td>\n",
              "      <td>383</td>\n",
              "      <td>vLq9iphAvALBXazDr</td>\n",
              "    </tr>\n",
              "    <tr>\n",
              "      <th>3</th>\n",
              "      <td>acoustic guitar</td>\n",
              "      <td>Blue</td>\n",
              "      <td>Body</td>\n",
              "      <td>NaN</td>\n",
              "      <td>NaN</td>\n",
              "      <td>Yes</td>\n",
              "      <td>Yes</td>\n",
              "      <td>No</td>\n",
              "      <td>5.0</td>\n",
              "      <td>NFS</td>\n",
              "      <td>...</td>\n",
              "      <td>Yes</td>\n",
              "      <td>Musical Instrument</td>\n",
              "      <td>No</td>\n",
              "      <td>Does not play music</td>\n",
              "      <td>No lighting</td>\n",
              "      <td>Not for sale</td>\n",
              "      <td>FtrAcorsticguitar_Remake_3_0</td>\n",
              "      <td>3_0</td>\n",
              "      <td>383</td>\n",
              "      <td>nuqeFzNE5PneqGHaj</td>\n",
              "    </tr>\n",
              "    <tr>\n",
              "      <th>4</th>\n",
              "      <td>acoustic guitar</td>\n",
              "      <td>White</td>\n",
              "      <td>Body</td>\n",
              "      <td>NaN</td>\n",
              "      <td>NaN</td>\n",
              "      <td>Yes</td>\n",
              "      <td>Yes</td>\n",
              "      <td>No</td>\n",
              "      <td>5.0</td>\n",
              "      <td>NFS</td>\n",
              "      <td>...</td>\n",
              "      <td>Yes</td>\n",
              "      <td>Musical Instrument</td>\n",
              "      <td>No</td>\n",
              "      <td>Does not play music</td>\n",
              "      <td>No lighting</td>\n",
              "      <td>Not for sale</td>\n",
              "      <td>FtrAcorsticguitar_Remake_4_0</td>\n",
              "      <td>4_0</td>\n",
              "      <td>383</td>\n",
              "      <td>DotFsojrhCwrLZ3TF</td>\n",
              "    </tr>\n",
              "    <tr>\n",
              "      <th>...</th>\n",
              "      <td>...</td>\n",
              "      <td>...</td>\n",
              "      <td>...</td>\n",
              "      <td>...</td>\n",
              "      <td>...</td>\n",
              "      <td>...</td>\n",
              "      <td>...</td>\n",
              "      <td>...</td>\n",
              "      <td>...</td>\n",
              "      <td>...</td>\n",
              "      <td>...</td>\n",
              "      <td>...</td>\n",
              "      <td>...</td>\n",
              "      <td>...</td>\n",
              "      <td>...</td>\n",
              "      <td>...</td>\n",
              "      <td>...</td>\n",
              "      <td>...</td>\n",
              "      <td>...</td>\n",
              "      <td>...</td>\n",
              "      <td>...</td>\n",
              "    </tr>\n",
              "    <tr>\n",
              "      <th>3270</th>\n",
              "      <td>zen-style stone</td>\n",
              "      <td>White granite</td>\n",
              "      <td>Stone</td>\n",
              "      <td>NaN</td>\n",
              "      <td>NaN</td>\n",
              "      <td>Yes</td>\n",
              "      <td>Yes</td>\n",
              "      <td>No</td>\n",
              "      <td>6.0</td>\n",
              "      <td>NFS</td>\n",
              "      <td>...</td>\n",
              "      <td>No</td>\n",
              "      <td>Japanese Style</td>\n",
              "      <td>Yes</td>\n",
              "      <td>Does not play music</td>\n",
              "      <td>No lighting</td>\n",
              "      <td>Not for sale</td>\n",
              "      <td>FtrGravestoneJapan_Remake_0_0</td>\n",
              "      <td>0_0</td>\n",
              "      <td>7317</td>\n",
              "      <td>xDuaerhiJuiJnwNDS</td>\n",
              "    </tr>\n",
              "    <tr>\n",
              "      <th>3271</th>\n",
              "      <td>zen-style stone</td>\n",
              "      <td>Andesite</td>\n",
              "      <td>Stone</td>\n",
              "      <td>NaN</td>\n",
              "      <td>NaN</td>\n",
              "      <td>Yes</td>\n",
              "      <td>Yes</td>\n",
              "      <td>No</td>\n",
              "      <td>6.0</td>\n",
              "      <td>NFS</td>\n",
              "      <td>...</td>\n",
              "      <td>No</td>\n",
              "      <td>Japanese Style</td>\n",
              "      <td>Yes</td>\n",
              "      <td>Does not play music</td>\n",
              "      <td>No lighting</td>\n",
              "      <td>Not for sale</td>\n",
              "      <td>FtrGravestoneJapan_Remake_1_0</td>\n",
              "      <td>1_0</td>\n",
              "      <td>7317</td>\n",
              "      <td>YfpPverX5Q2iEwRF2</td>\n",
              "    </tr>\n",
              "    <tr>\n",
              "      <th>3272</th>\n",
              "      <td>zen-style stone</td>\n",
              "      <td>Black granite</td>\n",
              "      <td>Stone</td>\n",
              "      <td>NaN</td>\n",
              "      <td>NaN</td>\n",
              "      <td>Yes</td>\n",
              "      <td>Yes</td>\n",
              "      <td>No</td>\n",
              "      <td>6.0</td>\n",
              "      <td>NFS</td>\n",
              "      <td>...</td>\n",
              "      <td>No</td>\n",
              "      <td>Japanese Style</td>\n",
              "      <td>Yes</td>\n",
              "      <td>Does not play music</td>\n",
              "      <td>No lighting</td>\n",
              "      <td>Not for sale</td>\n",
              "      <td>FtrGravestoneJapan_Remake_2_0</td>\n",
              "      <td>2_0</td>\n",
              "      <td>7317</td>\n",
              "      <td>nrzjikKKpni7sAMir</td>\n",
              "    </tr>\n",
              "    <tr>\n",
              "      <th>3273</th>\n",
              "      <td>zen-style stone</td>\n",
              "      <td>Brown granite</td>\n",
              "      <td>Stone</td>\n",
              "      <td>NaN</td>\n",
              "      <td>NaN</td>\n",
              "      <td>Yes</td>\n",
              "      <td>Yes</td>\n",
              "      <td>No</td>\n",
              "      <td>6.0</td>\n",
              "      <td>NFS</td>\n",
              "      <td>...</td>\n",
              "      <td>No</td>\n",
              "      <td>Japanese Style</td>\n",
              "      <td>Yes</td>\n",
              "      <td>Does not play music</td>\n",
              "      <td>No lighting</td>\n",
              "      <td>Not for sale</td>\n",
              "      <td>FtrGravestoneJapan_Remake_3_0</td>\n",
              "      <td>3_0</td>\n",
              "      <td>7317</td>\n",
              "      <td>7qXRema8baxyunhvS</td>\n",
              "    </tr>\n",
              "    <tr>\n",
              "      <th>3274</th>\n",
              "      <td>zen-style stone</td>\n",
              "      <td>Mossy stone</td>\n",
              "      <td>Stone</td>\n",
              "      <td>NaN</td>\n",
              "      <td>NaN</td>\n",
              "      <td>Yes</td>\n",
              "      <td>Yes</td>\n",
              "      <td>No</td>\n",
              "      <td>6.0</td>\n",
              "      <td>NFS</td>\n",
              "      <td>...</td>\n",
              "      <td>No</td>\n",
              "      <td>Japanese Style</td>\n",
              "      <td>Yes</td>\n",
              "      <td>Does not play music</td>\n",
              "      <td>No lighting</td>\n",
              "      <td>Not for sale</td>\n",
              "      <td>FtrGravestoneJapan_Remake_4_0</td>\n",
              "      <td>4_0</td>\n",
              "      <td>7317</td>\n",
              "      <td>RswDXvSEibYz7Zajy</td>\n",
              "    </tr>\n",
              "  </tbody>\n",
              "</table>\n",
              "<p>3275 rows × 32 columns</p>\n",
              "</div>\n",
              "    <div class=\"colab-df-buttons\">\n",
              "\n",
              "  <div class=\"colab-df-container\">\n",
              "    <button class=\"colab-df-convert\" onclick=\"convertToInteractive('df-078bc629-b200-4dcf-9ded-f988d77046bb')\"\n",
              "            title=\"Convert this dataframe to an interactive table.\"\n",
              "            style=\"display:none;\">\n",
              "\n",
              "  <svg xmlns=\"http://www.w3.org/2000/svg\" height=\"24px\" viewBox=\"0 -960 960 960\">\n",
              "    <path d=\"M120-120v-720h720v720H120Zm60-500h600v-160H180v160Zm220 220h160v-160H400v160Zm0 220h160v-160H400v160ZM180-400h160v-160H180v160Zm440 0h160v-160H620v160ZM180-180h160v-160H180v160Zm440 0h160v-160H620v160Z\"/>\n",
              "  </svg>\n",
              "    </button>\n",
              "\n",
              "  <style>\n",
              "    .colab-df-container {\n",
              "      display:flex;\n",
              "      gap: 12px;\n",
              "    }\n",
              "\n",
              "    .colab-df-convert {\n",
              "      background-color: #E8F0FE;\n",
              "      border: none;\n",
              "      border-radius: 50%;\n",
              "      cursor: pointer;\n",
              "      display: none;\n",
              "      fill: #1967D2;\n",
              "      height: 32px;\n",
              "      padding: 0 0 0 0;\n",
              "      width: 32px;\n",
              "    }\n",
              "\n",
              "    .colab-df-convert:hover {\n",
              "      background-color: #E2EBFA;\n",
              "      box-shadow: 0px 1px 2px rgba(60, 64, 67, 0.3), 0px 1px 3px 1px rgba(60, 64, 67, 0.15);\n",
              "      fill: #174EA6;\n",
              "    }\n",
              "\n",
              "    .colab-df-buttons div {\n",
              "      margin-bottom: 4px;\n",
              "    }\n",
              "\n",
              "    [theme=dark] .colab-df-convert {\n",
              "      background-color: #3B4455;\n",
              "      fill: #D2E3FC;\n",
              "    }\n",
              "\n",
              "    [theme=dark] .colab-df-convert:hover {\n",
              "      background-color: #434B5C;\n",
              "      box-shadow: 0px 1px 3px 1px rgba(0, 0, 0, 0.15);\n",
              "      filter: drop-shadow(0px 1px 2px rgba(0, 0, 0, 0.3));\n",
              "      fill: #FFFFFF;\n",
              "    }\n",
              "  </style>\n",
              "\n",
              "    <script>\n",
              "      const buttonEl =\n",
              "        document.querySelector('#df-078bc629-b200-4dcf-9ded-f988d77046bb button.colab-df-convert');\n",
              "      buttonEl.style.display =\n",
              "        google.colab.kernel.accessAllowed ? 'block' : 'none';\n",
              "\n",
              "      async function convertToInteractive(key) {\n",
              "        const element = document.querySelector('#df-078bc629-b200-4dcf-9ded-f988d77046bb');\n",
              "        const dataTable =\n",
              "          await google.colab.kernel.invokeFunction('convertToInteractive',\n",
              "                                                    [key], {});\n",
              "        if (!dataTable) return;\n",
              "\n",
              "        const docLinkHtml = 'Like what you see? Visit the ' +\n",
              "          '<a target=\"_blank\" href=https://colab.research.google.com/notebooks/data_table.ipynb>data table notebook</a>'\n",
              "          + ' to learn more about interactive tables.';\n",
              "        element.innerHTML = '';\n",
              "        dataTable['output_type'] = 'display_data';\n",
              "        await google.colab.output.renderOutput(dataTable, element);\n",
              "        const docLink = document.createElement('div');\n",
              "        docLink.innerHTML = docLinkHtml;\n",
              "        element.appendChild(docLink);\n",
              "      }\n",
              "    </script>\n",
              "  </div>\n",
              "\n",
              "\n",
              "<div id=\"df-ec7ee5eb-9095-4acd-8c18-0ca9cb68372f\">\n",
              "  <button class=\"colab-df-quickchart\" onclick=\"quickchart('df-ec7ee5eb-9095-4acd-8c18-0ca9cb68372f')\"\n",
              "            title=\"Suggest charts\"\n",
              "            style=\"display:none;\">\n",
              "\n",
              "<svg xmlns=\"http://www.w3.org/2000/svg\" height=\"24px\"viewBox=\"0 0 24 24\"\n",
              "     width=\"24px\">\n",
              "    <g>\n",
              "        <path d=\"M19 3H5c-1.1 0-2 .9-2 2v14c0 1.1.9 2 2 2h14c1.1 0 2-.9 2-2V5c0-1.1-.9-2-2-2zM9 17H7v-7h2v7zm4 0h-2V7h2v10zm4 0h-2v-4h2v4z\"/>\n",
              "    </g>\n",
              "</svg>\n",
              "  </button>\n",
              "\n",
              "<style>\n",
              "  .colab-df-quickchart {\n",
              "      --bg-color: #E8F0FE;\n",
              "      --fill-color: #1967D2;\n",
              "      --hover-bg-color: #E2EBFA;\n",
              "      --hover-fill-color: #174EA6;\n",
              "      --disabled-fill-color: #AAA;\n",
              "      --disabled-bg-color: #DDD;\n",
              "  }\n",
              "\n",
              "  [theme=dark] .colab-df-quickchart {\n",
              "      --bg-color: #3B4455;\n",
              "      --fill-color: #D2E3FC;\n",
              "      --hover-bg-color: #434B5C;\n",
              "      --hover-fill-color: #FFFFFF;\n",
              "      --disabled-bg-color: #3B4455;\n",
              "      --disabled-fill-color: #666;\n",
              "  }\n",
              "\n",
              "  .colab-df-quickchart {\n",
              "    background-color: var(--bg-color);\n",
              "    border: none;\n",
              "    border-radius: 50%;\n",
              "    cursor: pointer;\n",
              "    display: none;\n",
              "    fill: var(--fill-color);\n",
              "    height: 32px;\n",
              "    padding: 0;\n",
              "    width: 32px;\n",
              "  }\n",
              "\n",
              "  .colab-df-quickchart:hover {\n",
              "    background-color: var(--hover-bg-color);\n",
              "    box-shadow: 0 1px 2px rgba(60, 64, 67, 0.3), 0 1px 3px 1px rgba(60, 64, 67, 0.15);\n",
              "    fill: var(--button-hover-fill-color);\n",
              "  }\n",
              "\n",
              "  .colab-df-quickchart-complete:disabled,\n",
              "  .colab-df-quickchart-complete:disabled:hover {\n",
              "    background-color: var(--disabled-bg-color);\n",
              "    fill: var(--disabled-fill-color);\n",
              "    box-shadow: none;\n",
              "  }\n",
              "\n",
              "  .colab-df-spinner {\n",
              "    border: 2px solid var(--fill-color);\n",
              "    border-color: transparent;\n",
              "    border-bottom-color: var(--fill-color);\n",
              "    animation:\n",
              "      spin 1s steps(1) infinite;\n",
              "  }\n",
              "\n",
              "  @keyframes spin {\n",
              "    0% {\n",
              "      border-color: transparent;\n",
              "      border-bottom-color: var(--fill-color);\n",
              "      border-left-color: var(--fill-color);\n",
              "    }\n",
              "    20% {\n",
              "      border-color: transparent;\n",
              "      border-left-color: var(--fill-color);\n",
              "      border-top-color: var(--fill-color);\n",
              "    }\n",
              "    30% {\n",
              "      border-color: transparent;\n",
              "      border-left-color: var(--fill-color);\n",
              "      border-top-color: var(--fill-color);\n",
              "      border-right-color: var(--fill-color);\n",
              "    }\n",
              "    40% {\n",
              "      border-color: transparent;\n",
              "      border-right-color: var(--fill-color);\n",
              "      border-top-color: var(--fill-color);\n",
              "    }\n",
              "    60% {\n",
              "      border-color: transparent;\n",
              "      border-right-color: var(--fill-color);\n",
              "    }\n",
              "    80% {\n",
              "      border-color: transparent;\n",
              "      border-right-color: var(--fill-color);\n",
              "      border-bottom-color: var(--fill-color);\n",
              "    }\n",
              "    90% {\n",
              "      border-color: transparent;\n",
              "      border-bottom-color: var(--fill-color);\n",
              "    }\n",
              "  }\n",
              "</style>\n",
              "\n",
              "  <script>\n",
              "    async function quickchart(key) {\n",
              "      const quickchartButtonEl =\n",
              "        document.querySelector('#' + key + ' button');\n",
              "      quickchartButtonEl.disabled = true;  // To prevent multiple clicks.\n",
              "      quickchartButtonEl.classList.add('colab-df-spinner');\n",
              "      try {\n",
              "        const charts = await google.colab.kernel.invokeFunction(\n",
              "            'suggestCharts', [key], {});\n",
              "      } catch (error) {\n",
              "        console.error('Error during call to suggestCharts:', error);\n",
              "      }\n",
              "      quickchartButtonEl.classList.remove('colab-df-spinner');\n",
              "      quickchartButtonEl.classList.add('colab-df-quickchart-complete');\n",
              "    }\n",
              "    (() => {\n",
              "      let quickchartButtonEl =\n",
              "        document.querySelector('#df-ec7ee5eb-9095-4acd-8c18-0ca9cb68372f button');\n",
              "      quickchartButtonEl.style.display =\n",
              "        google.colab.kernel.accessAllowed ? 'block' : 'none';\n",
              "    })();\n",
              "  </script>\n",
              "</div>\n",
              "\n",
              "  <div id=\"id_e6a33b68-58de-40ce-af04-a8c721a9c1c1\">\n",
              "    <style>\n",
              "      .colab-df-generate {\n",
              "        background-color: #E8F0FE;\n",
              "        border: none;\n",
              "        border-radius: 50%;\n",
              "        cursor: pointer;\n",
              "        display: none;\n",
              "        fill: #1967D2;\n",
              "        height: 32px;\n",
              "        padding: 0 0 0 0;\n",
              "        width: 32px;\n",
              "      }\n",
              "\n",
              "      .colab-df-generate:hover {\n",
              "        background-color: #E2EBFA;\n",
              "        box-shadow: 0px 1px 2px rgba(60, 64, 67, 0.3), 0px 1px 3px 1px rgba(60, 64, 67, 0.15);\n",
              "        fill: #174EA6;\n",
              "      }\n",
              "\n",
              "      [theme=dark] .colab-df-generate {\n",
              "        background-color: #3B4455;\n",
              "        fill: #D2E3FC;\n",
              "      }\n",
              "\n",
              "      [theme=dark] .colab-df-generate:hover {\n",
              "        background-color: #434B5C;\n",
              "        box-shadow: 0px 1px 3px 1px rgba(0, 0, 0, 0.15);\n",
              "        filter: drop-shadow(0px 1px 2px rgba(0, 0, 0, 0.3));\n",
              "        fill: #FFFFFF;\n",
              "      }\n",
              "    </style>\n",
              "    <button class=\"colab-df-generate\" onclick=\"generateWithVariable('housewares_df')\"\n",
              "            title=\"Generate code using this dataframe.\"\n",
              "            style=\"display:none;\">\n",
              "\n",
              "  <svg xmlns=\"http://www.w3.org/2000/svg\" height=\"24px\"viewBox=\"0 0 24 24\"\n",
              "       width=\"24px\">\n",
              "    <path d=\"M7,19H8.4L18.45,9,17,7.55,7,17.6ZM5,21V16.75L18.45,3.32a2,2,0,0,1,2.83,0l1.4,1.43a1.91,1.91,0,0,1,.58,1.4,1.91,1.91,0,0,1-.58,1.4L9.25,21ZM18.45,9,17,7.55Zm-12,3A5.31,5.31,0,0,0,4.9,8.1,5.31,5.31,0,0,0,1,6.5,5.31,5.31,0,0,0,4.9,4.9,5.31,5.31,0,0,0,6.5,1,5.31,5.31,0,0,0,8.1,4.9,5.31,5.31,0,0,0,12,6.5,5.46,5.46,0,0,0,6.5,12Z\"/>\n",
              "  </svg>\n",
              "    </button>\n",
              "    <script>\n",
              "      (() => {\n",
              "      const buttonEl =\n",
              "        document.querySelector('#id_e6a33b68-58de-40ce-af04-a8c721a9c1c1 button.colab-df-generate');\n",
              "      buttonEl.style.display =\n",
              "        google.colab.kernel.accessAllowed ? 'block' : 'none';\n",
              "\n",
              "      buttonEl.onclick = () => {\n",
              "        google.colab.notebook.generateWithVariable('housewares_df');\n",
              "      }\n",
              "      })();\n",
              "    </script>\n",
              "  </div>\n",
              "\n",
              "    </div>\n",
              "  </div>\n"
            ]
          },
          "metadata": {},
          "execution_count": 2
        }
      ]
    },
    {
      "source": [
        "from matplotlib import pyplot as plt\n",
        "import seaborn as sns\n",
        "villagers_df.groupby('personality').size().plot(kind='barh', color=sns.palettes.mpl_palette('Dark2'))\n",
        "plt.gca().spines[['top', 'right',]].set_visible(False)"
      ],
      "cell_type": "code",
      "metadata": {
        "colab": {
          "base_uri": "https://localhost:8080/",
          "height": 430
        },
        "id": "JFzROU3ur_IU",
        "outputId": "ab352a0c-9a7b-40b6-d980-6e88723b6438"
      },
      "execution_count": 3,
      "outputs": [
        {
          "output_type": "display_data",
          "data": {
            "text/plain": [
              "<Figure size 640x480 with 1 Axes>"
            ],
            "image/png": "[encoded data removed]"
          },
          "metadata": {}
        }
      ]
    },
    {
      "cell_type": "code",
      "source": [
        "duckdb.sql(\"SELECT name,gender,species,personality,catchphrase FROM villagers_df WHERE species = 'Cat'\")"
      ],
      "metadata": {
        "colab": {
          "base_uri": "https://localhost:8080/"
        },
        "id": "8zfqlwgEsUbT",
        "outputId": "57542fd8-38ba-4726-c424-5b4a7534ade0"
      },
      "execution_count": 4,
      "outputs": [
        {
          "output_type": "execute_result",
          "data": {
            "text/plain": [
              "┌──────────┬─────────┬─────────┬─────────────┬─────────────┐\n",
              "│   name   │ gender  │ species │ personality │ catchphrase │\n",
              "│ varchar  │ varchar │ varchar │   varchar   │   varchar   │\n",
              "├──────────┼─────────┼─────────┼─────────────┼─────────────┤\n",
              "│ Ankha    │ Female  │ Cat     │ Snooty      │ me meow     │\n",
              "│ Bob      │ Male    │ Cat     │ Lazy        │ pthhpth     │\n",
              "│ Felicity │ Female  │ Cat     │ Peppy       │ mimimi      │\n",
              "│ Kabuki   │ Male    │ Cat     │ Cranky      │ meooo-OH    │\n",
              "│ Katt     │ Female  │ Cat     │ Big Sister  │ purrty      │\n",
              "│ Kid Cat  │ Male    │ Cat     │ Jock        │ psst        │\n",
              "│ Kiki     │ Female  │ Cat     │ Normal      │ kitty cat   │\n",
              "│ Kitty    │ Female  │ Cat     │ Snooty      │ mrowrr      │\n",
              "│ Lolly    │ Female  │ Cat     │ Normal      │ bonbon      │\n",
              "│ Merry    │ Female  │ Cat     │ Peppy       │ mweee       │\n",
              "│ Mitzi    │ Female  │ Cat     │ Normal      │ mew         │\n",
              "│ Moe      │ Male    │ Cat     │ Lazy        │ myawn       │\n",
              "│ Monique  │ Female  │ Cat     │ Snooty      │ pffffft     │\n",
              "│ Olivia   │ Female  │ Cat     │ Snooty      │ purrr       │\n",
              "│ Punchy   │ Male    │ Cat     │ Lazy        │ mrmpht      │\n",
              "│ Purrl    │ Female  │ Cat     │ Snooty      │ kitten      │\n",
              "│ Raymond  │ Male    │ Cat     │ Smug        │ crisp       │\n",
              "│ Rosie    │ Female  │ Cat     │ Peppy       │ silly       │\n",
              "│ Rudy     │ Male    │ Cat     │ Jock        │ mush        │\n",
              "│ Stinky   │ Male    │ Cat     │ Jock        │ GAAHHH      │\n",
              "│ Tabby    │ Female  │ Cat     │ Peppy       │ me-WOW      │\n",
              "│ Tangy    │ Female  │ Cat     │ Peppy       │ reeeeOWR    │\n",
              "│ Tom      │ Male    │ Cat     │ Cranky      │ me-YOWZA    │\n",
              "├──────────┴─────────┴─────────┴─────────────┴─────────────┤\n",
              "│ 23 rows                                        5 columns │\n",
              "└──────────────────────────────────────────────────────────┘"
            ]
          },
          "metadata": {},
          "execution_count": 4
        }
      ]
    },
    {
      "cell_type": "code",
      "source": [
        "duckdb.sql(\"SELECT name,gender,species,personality,catchphrase FROM villagers_df WHERE species = 'Cat' AND personality = 'Peppy'\")"
      ],
      "metadata": {
        "colab": {
          "base_uri": "https://localhost:8080/"
        },
        "id": "muPMMC54uc5e",
        "outputId": "d4a287ec-cb0d-4735-8614-b9a9df388dff"
      },
      "execution_count": 5,
      "outputs": [
        {
          "output_type": "execute_result",
          "data": {
            "text/plain": [
              "┌──────────┬─────────┬─────────┬─────────────┬─────────────┐\n",
              "│   name   │ gender  │ species │ personality │ catchphrase │\n",
              "│ varchar  │ varchar │ varchar │   varchar   │   varchar   │\n",
              "├──────────┼─────────┼─────────┼─────────────┼─────────────┤\n",
              "│ Felicity │ Female  │ Cat     │ Peppy       │ mimimi      │\n",
              "│ Merry    │ Female  │ Cat     │ Peppy       │ mweee       │\n",
              "│ Rosie    │ Female  │ Cat     │ Peppy       │ silly       │\n",
              "│ Tabby    │ Female  │ Cat     │ Peppy       │ me-WOW      │\n",
              "│ Tangy    │ Female  │ Cat     │ Peppy       │ reeeeOWR    │\n",
              "└──────────┴─────────┴─────────┴─────────────┴─────────────┘"
            ]
          },
          "metadata": {},
          "execution_count": 5
        }
      ]
    },
    {
      "cell_type": "code",
      "source": [
        "duckdb.sql(\"SELECT name,gender,species,personality,catchphrase FROM villagers_df WHERE species = 'Cat' AND name LIKE 'A%'\")"
      ],
      "metadata": {
        "colab": {
          "base_uri": "https://localhost:8080/"
        },
        "id": "WETS9zXBuoUu",
        "outputId": "60781c4c-4d9b-40a9-eca6-c326fd802429"
      },
      "execution_count": 6,
      "outputs": [
        {
          "output_type": "execute_result",
          "data": {
            "text/plain": [
              "┌─────────┬─────────┬─────────┬─────────────┬─────────────┐\n",
              "│  name   │ gender  │ species │ personality │ catchphrase │\n",
              "│ varchar │ varchar │ varchar │   varchar   │   varchar   │\n",
              "├─────────┼─────────┼─────────┼─────────────┼─────────────┤\n",
              "│ Ankha   │ Female  │ Cat     │ Snooty      │ me meow     │\n",
              "└─────────┴─────────┴─────────┴─────────────┴─────────────┘"
            ]
          },
          "metadata": {},
          "execution_count": 6
        }
      ]
    },
    {
      "cell_type": "code",
      "source": [
        "duckdb.sql(\"SELECT personality, COUNT(*) AS personality_count FROM villagers_df GROUP BY personality\")"
      ],
      "metadata": {
        "colab": {
          "base_uri": "https://localhost:8080/"
        },
        "id": "o-HtMlKlwDqB",
        "outputId": "8bc86deb-6c1f-4e21-f5eb-f820a4504851"
      },
      "execution_count": 7,
      "outputs": [
        {
          "output_type": "execute_result",
          "data": {
            "text/plain": [
              "┌─────────────┬───────────────────┐\n",
              "│ personality │ personality_count │\n",
              "│   varchar   │       int64       │\n",
              "├─────────────┼───────────────────┤\n",
              "│ Cranky      │                55 │\n",
              "│ Peppy       │                49 │\n",
              "│ Big Sister  │                24 │\n",
              "│ Lazy        │                60 │\n",
              "│ Normal      │                59 │\n",
              "│ Snooty      │                55 │\n",
              "│ Smug        │                34 │\n",
              "│ Jock        │                55 │\n",
              "└─────────────┴───────────────────┘"
            ]
          },
          "metadata": {},
          "execution_count": 7
        }
      ]
    },
    {
      "cell_type": "code",
      "source": [
        "duckdb.sql(\"SELECT personality, COUNT(*) AS personality_count, COUNT(*) * 100.0 / (SELECT COUNT(personality) FROM villagers_df ) AS personality_percentage FROM villagers_df GROUP BY personality ORDER BY personality_count ASC\")"
      ],
      "metadata": {
        "colab": {
          "base_uri": "https://localhost:8080/"
        },
        "id": "UWQSie_k11wH",
        "outputId": "b154c3a4-f411-4d2e-9f18-0a149722159a"
      },
      "execution_count": 8,
      "outputs": [
        {
          "output_type": "execute_result",
          "data": {
            "text/plain": [
              "┌─────────────┬───────────────────┬────────────────────────┐\n",
              "│ personality │ personality_count │ personality_percentage │\n",
              "│   varchar   │       int64       │         double         │\n",
              "├─────────────┼───────────────────┼────────────────────────┤\n",
              "│ Big Sister  │                24 │      6.138107416879795 │\n",
              "│ Smug        │                34 │      8.695652173913043 │\n",
              "│ Peppy       │                49 │     12.531969309462916 │\n",
              "│ Cranky      │                55 │     14.066496163682864 │\n",
              "│ Snooty      │                55 │     14.066496163682864 │\n",
              "│ Jock        │                55 │     14.066496163682864 │\n",
              "│ Normal      │                59 │     15.089514066496164 │\n",
              "│ Lazy        │                60 │     15.345268542199488 │\n",
              "└─────────────┴───────────────────┴────────────────────────┘"
            ]
          },
          "metadata": {},
          "execution_count": 8
        }
      ]
    },
    {
      "cell_type": "code",
      "source": [
        "duckdb.sql(\"SELECT COUNT(*) * 100.0 / (SELECT COUNT(*) FROM villagers_df ) AS cranky_percentage FROM villagers_df WHERE personality = 'Cranky'\")"
      ],
      "metadata": {
        "colab": {
          "base_uri": "https://localhost:8080/"
        },
        "id": "sohOPn7t0Ch7",
        "outputId": "8168fefb-4d56-4c8c-933d-27db4984bb88"
      },
      "execution_count": 9,
      "outputs": [
        {
          "output_type": "execute_result",
          "data": {
            "text/plain": [
              "┌────────────────────┐\n",
              "│ cranky_percentage  │\n",
              "│       double       │\n",
              "├────────────────────┤\n",
              "│ 14.066496163682864 │\n",
              "└────────────────────┘"
            ]
          },
          "metadata": {},
          "execution_count": 9
        }
      ]
    },
    {
      "cell_type": "code",
      "source": [
        "duckdb.sql(\"SELECT COUNT(*) * 100.0 / (SELECT COUNT(*) FROM villagers_df WHERE species = 'Cat') AS cat_cranky_percentage FROM villagers_df WHERE species = 'Cat' AND personality = 'Cranky'\")"
      ],
      "metadata": {
        "colab": {
          "base_uri": "https://localhost:8080/"
        },
        "id": "T_orygC00E6y",
        "outputId": "f1959572-5ca5-4460-a8d4-0f7a385126e7"
      },
      "execution_count": 10,
      "outputs": [
        {
          "output_type": "execute_result",
          "data": {
            "text/plain": [
              "┌───────────────────────┐\n",
              "│ cat_cranky_percentage │\n",
              "│        double         │\n",
              "├───────────────────────┤\n",
              "│     8.695652173913043 │\n",
              "└───────────────────────┘"
            ]
          },
          "metadata": {},
          "execution_count": 10
        }
      ]
    },
    {
      "cell_type": "code",
      "source": [
        "duckdb.sql(\"SELECT personality, COUNT(*) AS cat_personality_count, COUNT(*) * 100.0 / (SELECT COUNT(personality) FROM villagers_df WHERE species = 'Cat') AS cat_personality_percentage FROM villagers_df WHERE species = 'Cat' GROUP BY personality ORDER BY cat_personality_count ASC\")"
      ],
      "metadata": {
        "colab": {
          "base_uri": "https://localhost:8080/"
        },
        "id": "CqjsJaz85utl",
        "outputId": "929faaf0-80b8-4887-8f86-3bc48d8a6dd0"
      },
      "execution_count": 11,
      "outputs": [
        {
          "output_type": "execute_result",
          "data": {
            "text/plain": [
              "┌─────────────┬───────────────────────┬────────────────────────────┐\n",
              "│ personality │ cat_personality_count │ cat_personality_percentage │\n",
              "│   varchar   │         int64         │           double           │\n",
              "├─────────────┼───────────────────────┼────────────────────────────┤\n",
              "│ Big Sister  │                     1 │         4.3478260869565215 │\n",
              "│ Smug        │                     1 │         4.3478260869565215 │\n",
              "│ Cranky      │                     2 │          8.695652173913043 │\n",
              "│ Jock        │                     3 │         13.043478260869565 │\n",
              "│ Lazy        │                     3 │         13.043478260869565 │\n",
              "│ Normal      │                     3 │         13.043478260869565 │\n",
              "│ Snooty      │                     5 │          21.73913043478261 │\n",
              "│ Peppy       │                     5 │          21.73913043478261 │\n",
              "└─────────────┴───────────────────────┴────────────────────────────┘"
            ]
          },
          "metadata": {},
          "execution_count": 11
        }
      ]
    },
    {
      "cell_type": "code",
      "source": [
        "duckdb.sql(\"SELECT COUNT(*) * 100.0 / (SELECT COUNT(*) FROM villagers_df ) AS alligator_percentage FROM villagers_df WHERE species = 'Alligator'\")"
      ],
      "metadata": {
        "colab": {
          "base_uri": "https://localhost:8080/"
        },
        "id": "no8V5ska6ED-",
        "outputId": "b5d32a74-37b5-4977-b00d-c758d78c1156"
      },
      "execution_count": 12,
      "outputs": [
        {
          "output_type": "execute_result",
          "data": {
            "text/plain": [
              "┌──────────────────────┐\n",
              "│ alligator_percentage │\n",
              "│        double        │\n",
              "├──────────────────────┤\n",
              "│   1.7902813299232736 │\n",
              "└──────────────────────┘"
            ]
          },
          "metadata": {},
          "execution_count": 12
        }
      ]
    },
    {
      "cell_type": "code",
      "source": [
        "duckdb.sql(\"SELECT name,gender,species,personality,catchphrase FROM villagers_df WHERE species = 'Alligator'\")"
      ],
      "metadata": {
        "colab": {
          "base_uri": "https://localhost:8080/"
        },
        "id": "QZ2y69A46pSu",
        "outputId": "92bc0615-15e2-4d15-a31c-25fe77532840"
      },
      "execution_count": 13,
      "outputs": [
        {
          "output_type": "execute_result",
          "data": {
            "text/plain": [
              "┌─────────┬─────────┬───────────┬─────────────┬─────────────┐\n",
              "│  name   │ gender  │  species  │ personality │ catchphrase │\n",
              "│ varchar │ varchar │  varchar  │   varchar   │   varchar   │\n",
              "├─────────┼─────────┼───────────┼─────────────┼─────────────┤\n",
              "│ Alfonso │ Male    │ Alligator │ Lazy        │ it'sa me    │\n",
              "│ Alli    │ Female  │ Alligator │ Snooty      │ graaagh     │\n",
              "│ Boots   │ Male    │ Alligator │ Jock        │ munchie     │\n",
              "│ Del     │ Male    │ Alligator │ Cranky      │ gronk       │\n",
              "│ Drago   │ Male    │ Alligator │ Lazy        │ burrrn      │\n",
              "│ Gayle   │ Female  │ Alligator │ Normal      │ snacky      │\n",
              "│ Sly     │ Male    │ Alligator │ Jock        │ hoo-rah     │\n",
              "└─────────┴─────────┴───────────┴─────────────┴─────────────┘"
            ]
          },
          "metadata": {},
          "execution_count": 13
        }
      ]
    },
    {
      "cell_type": "code",
      "source": [
        "duckdb.sql(\"SELECT name,species,personality,catchphrase FROM villagers_df ORDER BY species DESC\")"
      ],
      "metadata": {
        "colab": {
          "base_uri": "https://localhost:8080/"
        },
        "id": "mgzA9KHT6500",
        "outputId": "e2857a51-c439-4823-b5c1-8a2243e56343"
      },
      "execution_count": 14,
      "outputs": [
        {
          "output_type": "execute_result",
          "data": {
            "text/plain": [
              "┌──────────┬───────────┬─────────────┬─────────────┐\n",
              "│   name   │  species  │ personality │ catchphrase │\n",
              "│ varchar  │  varchar  │   varchar   │   varchar   │\n",
              "├──────────┼───────────┼─────────────┼─────────────┤\n",
              "│ Fang     │ Wolf      │ Cranky      │ cha-chomp   │\n",
              "│ Chief    │ Wolf      │ Cranky      │ harrumph    │\n",
              "│ Wolfgang │ Wolf      │ Cranky      │ snarrrl     │\n",
              "│ Lobo     │ Wolf      │ Cranky      │ ah-rooooo   │\n",
              "│ Whitney  │ Wolf      │ Snooty      │ snappy      │\n",
              "│ Vivian   │ Wolf      │ Snooty      │ piffle      │\n",
              "│ Kyle     │ Wolf      │ Smug        │ alpha       │\n",
              "│ Dobie    │ Wolf      │ Cranky      │ ohmmm       │\n",
              "│ Audie    │ Wolf      │ Peppy       │ foxtrot     │\n",
              "│ Freya    │ Wolf      │ Snooty      │ uff da      │\n",
              "│   ·      │  ·        │   ·         │   ·         │\n",
              "│   ·      │  ·        │   ·         │   ·         │\n",
              "│   ·      │  ·        │   ·         │   ·         │\n",
              "│ Annalisa │ Anteater  │ Normal      │ gumdrop     │\n",
              "│ Cyrano   │ Anteater  │ Cranky      │ ah-CHOO     │\n",
              "│ Antonio  │ Anteater  │ Jock        │ honk        │\n",
              "│ Del      │ Alligator │ Cranky      │ gronk       │\n",
              "│ Gayle    │ Alligator │ Normal      │ snacky      │\n",
              "│ Alfonso  │ Alligator │ Lazy        │ it'sa me    │\n",
              "│ Alli     │ Alligator │ Snooty      │ graaagh     │\n",
              "│ Drago    │ Alligator │ Lazy        │ burrrn      │\n",
              "│ Sly      │ Alligator │ Jock        │ hoo-rah     │\n",
              "│ Boots    │ Alligator │ Jock        │ munchie     │\n",
              "├──────────┴───────────┴─────────────┴─────────────┤\n",
              "│ 391 rows (20 shown)                    4 columns │\n",
              "└──────────────────────────────────────────────────┘"
            ]
          },
          "metadata": {},
          "execution_count": 14
        }
      ]
    },
    {
      "cell_type": "code",
      "source": [
        "duckdb.sql(\"SELECT name,species,personality,catchphrase FROM villagers_df WHERE species = 'Wolf'\")"
      ],
      "metadata": {
        "colab": {
          "base_uri": "https://localhost:8080/"
        },
        "id": "s2BmTL5J7J9H",
        "outputId": "039be5b7-5d39-4881-eae7-74fc0e341d45"
      },
      "execution_count": 15,
      "outputs": [
        {
          "output_type": "execute_result",
          "data": {
            "text/plain": [
              "┌──────────┬─────────┬─────────────┬─────────────┐\n",
              "│   name   │ species │ personality │ catchphrase │\n",
              "│ varchar  │ varchar │   varchar   │   varchar   │\n",
              "├──────────┼─────────┼─────────────┼─────────────┤\n",
              "│ Audie    │ Wolf    │ Peppy       │ foxtrot     │\n",
              "│ Chief    │ Wolf    │ Cranky      │ harrumph    │\n",
              "│ Dobie    │ Wolf    │ Cranky      │ ohmmm       │\n",
              "│ Fang     │ Wolf    │ Cranky      │ cha-chomp   │\n",
              "│ Freya    │ Wolf    │ Snooty      │ uff da      │\n",
              "│ Kyle     │ Wolf    │ Smug        │ alpha       │\n",
              "│ Lobo     │ Wolf    │ Cranky      │ ah-rooooo   │\n",
              "│ Skye     │ Wolf    │ Normal      │ airmail     │\n",
              "│ Vivian   │ Wolf    │ Snooty      │ piffle      │\n",
              "│ Whitney  │ Wolf    │ Snooty      │ snappy      │\n",
              "│ Wolfgang │ Wolf    │ Cranky      │ snarrrl     │\n",
              "├──────────┴─────────┴─────────────┴─────────────┤\n",
              "│ 11 rows                              4 columns │\n",
              "└────────────────────────────────────────────────┘"
            ]
          },
          "metadata": {},
          "execution_count": 15
        }
      ]
    },
    {
      "cell_type": "code",
      "source": [
        "duckdb.sql(\"SELECT species, COUNT(*) AS species_count, COUNT(*) * 100.0 / (SELECT COUNT(species) FROM villagers_df ) AS species_percentage FROM villagers_df GROUP BY species ORDER BY species_count ASC\")"
      ],
      "metadata": {
        "colab": {
          "base_uri": "https://localhost:8080/"
        },
        "id": "_vyOOQxV7hz7",
        "outputId": "93a86a50-fa1d-4c68-d21b-f3f6de9875b9"
      },
      "execution_count": 16,
      "outputs": [
        {
          "output_type": "execute_result",
          "data": {
            "text/plain": [
              "┌───────────┬───────────────┬────────────────────┐\n",
              "│  species  │ species_count │ species_percentage │\n",
              "│  varchar  │     int64     │       double       │\n",
              "├───────────┼───────────────┼────────────────────┤\n",
              "│ Octopus   │             3 │ 0.7672634271099744 │\n",
              "│ Cow       │             4 │ 1.0230179028132993 │\n",
              "│ Bull      │             6 │ 1.5345268542199488 │\n",
              "│ Rhino     │             6 │ 1.5345268542199488 │\n",
              "│ Alligator │             7 │ 1.7902813299232736 │\n",
              "│ Tiger     │             7 │ 1.7902813299232736 │\n",
              "│ Anteater  │             7 │ 1.7902813299232736 │\n",
              "│ Hippo     │             7 │ 1.7902813299232736 │\n",
              "│ Lion      │             7 │ 1.7902813299232736 │\n",
              "│ Kangaroo  │             8 │ 2.0460358056265986 │\n",
              "│   ·       │             · │          ·         │\n",
              "│   ·       │             · │          ·         │\n",
              "│   ·       │             · │          ·         │\n",
              "│ Mouse     │            15 │  3.836317135549872 │\n",
              "│ Horse     │            15 │  3.836317135549872 │\n",
              "│ Bear      │            15 │  3.836317135549872 │\n",
              "│ Cub       │            16 │  4.092071611253197 │\n",
              "│ Dog       │            16 │  4.092071611253197 │\n",
              "│ Duck      │            17 │ 4.3478260869565215 │\n",
              "│ Frog      │            18 │  4.603580562659847 │\n",
              "│ Squirrel  │            18 │  4.603580562659847 │\n",
              "│ Rabbit    │            20 │  5.115089514066496 │\n",
              "│ Cat       │            23 │  5.882352941176471 │\n",
              "├───────────┴───────────────┴────────────────────┤\n",
              "│ 35 rows (20 shown)                   3 columns │\n",
              "└────────────────────────────────────────────────┘"
            ]
          },
          "metadata": {},
          "execution_count": 16
        }
      ]
    },
    {
      "cell_type": "code",
      "source": [
        "duckdb.sql(\"SELECT name,gender,species,personality,catchphrase,hobby FROM villagers_df WHERE hobby = 'Fitness' AND species = 'Gorilla' OR hobby = 'Fitness' AND species = 'Rabbit' \")"
      ],
      "metadata": {
        "colab": {
          "base_uri": "https://localhost:8080/"
        },
        "id": "SlnMJDv_-i9M",
        "outputId": "484d404c-6dc4-4482-b8b6-b9d603b89eca"
      },
      "execution_count": 17,
      "outputs": [
        {
          "output_type": "execute_result",
          "data": {
            "text/plain": [
              "┌─────────┬─────────┬─────────┬─────────────┬─────────────────┬─────────┐\n",
              "│  name   │ gender  │ species │ personality │   catchphrase   │  hobby  │\n",
              "│ varchar │ varchar │ varchar │   varchar   │     varchar     │ varchar │\n",
              "├─────────┼─────────┼─────────┼─────────────┼─────────────────┼─────────┤\n",
              "│ Al      │ Male    │ Gorilla │ Lazy        │ ayyyeee         │ Fitness │\n",
              "│ Boone   │ Male    │ Gorilla │ Jock        │ baboom          │ Fitness │\n",
              "│ Boyd    │ Male    │ Gorilla │ Cranky      │ uh-oh           │ Fitness │\n",
              "│ Cesar   │ Male    │ Gorilla │ Cranky      │ highness        │ Fitness │\n",
              "│ Hans    │ Male    │ Gorilla │ Smug        │ groovy          │ Fitness │\n",
              "│ Louie   │ Male    │ Gorilla │ Jock        │ hoo hoo ha      │ Fitness │\n",
              "│ Peewee  │ Male    │ Gorilla │ Cranky      │ li'l bitty baby │ Fitness │\n",
              "│ Rocket  │ Female  │ Gorilla │ Big Sister  │ vroom           │ Fitness │\n",
              "│ Violet  │ Female  │ Gorilla │ Snooty      │ sweetie         │ Fitness │\n",
              "│ Genji   │ Male    │ Rabbit  │ Jock        │ mochi           │ Fitness │\n",
              "│ Mira    │ Female  │ Rabbit  │ Big Sister  │ cottontail      │ Fitness │\n",
              "│ Snake   │ Male    │ Rabbit  │ Jock        │ bunyip          │ Fitness │\n",
              "├─────────┴─────────┴─────────┴─────────────┴─────────────────┴─────────┤\n",
              "│ 12 rows                                                     6 columns │\n",
              "└───────────────────────────────────────────────────────────────────────┘"
            ]
          },
          "metadata": {},
          "execution_count": 17
        }
      ]
    },
    {
      "cell_type": "code",
      "source": [
        "duckdb.sql(\"SELECT name,species,'Furniture List' FROM villagers_df \")"
      ],
      "metadata": {
        "colab": {
          "base_uri": "https://localhost:8080/"
        },
        "id": "QHXjSyP5F5Jk",
        "outputId": "eee8a0e7-7360-4684-9f63-c61f1098f4fa"
      },
      "execution_count": 18,
      "outputs": [
        {
          "output_type": "execute_result",
          "data": {
            "text/plain": [
              "┌──────────┬───────────┬──────────────────┐\n",
              "│   name   │  species  │ 'Furniture List' │\n",
              "│ varchar  │  varchar  │     varchar      │\n",
              "├──────────┼───────────┼──────────────────┤\n",
              "│ Admiral  │ Bird      │ Furniture List   │\n",
              "│ Agent S  │ Squirrel  │ Furniture List   │\n",
              "│ Agnes    │ Pig       │ Furniture List   │\n",
              "│ Al       │ Gorilla   │ Furniture List   │\n",
              "│ Alfonso  │ Alligator │ Furniture List   │\n",
              "│ Alice    │ Koala     │ Furniture List   │\n",
              "│ Alli     │ Alligator │ Furniture List   │\n",
              "│ Amelia   │ Eagle     │ Furniture List   │\n",
              "│ Anabelle │ Anteater  │ Furniture List   │\n",
              "│ Anchovy  │ Bird      │ Furniture List   │\n",
              "│    ·     │  ·        │       ·          │\n",
              "│    ·     │  ·        │       ·          │\n",
              "│    ·     │  ·        │       ·          │\n",
              "│ Wart Jr. │ Frog      │ Furniture List   │\n",
              "│ Weber    │ Duck      │ Furniture List   │\n",
              "│ Wendy    │ Sheep     │ Furniture List   │\n",
              "│ Whitney  │ Wolf      │ Furniture List   │\n",
              "│ Willow   │ Sheep     │ Furniture List   │\n",
              "│ Winnie   │ Horse     │ Furniture List   │\n",
              "│ Wolfgang │ Wolf      │ Furniture List   │\n",
              "│ Yuka     │ Koala     │ Furniture List   │\n",
              "│ Zell     │ Deer      │ Furniture List   │\n",
              "│ Zucker   │ Octopus   │ Furniture List   │\n",
              "├──────────┴───────────┴──────────────────┤\n",
              "│ 391 rows (20 shown)           3 columns │\n",
              "└─────────────────────────────────────────┘"
            ]
          },
          "metadata": {},
          "execution_count": 18
        }
      ]
    },
    {
      "cell_type": "code",
      "source": [
        "duckdb.sql(\"SELECT * FROM villagers_df \")\n",
        "print(villagers_df.columns)\n",
        "print(villagers_df.describe())\n",
        "print(villagers_df.shape)"
      ],
      "metadata": {
        "id": "7_BrvII8GjMK",
        "outputId": "a21016ef-c22b-4c0f-b5fb-b28fea585b29",
        "colab": {
          "base_uri": "https://localhost:8080/"
        }
      },
      "execution_count": 19,
      "outputs": [
        {
          "output_type": "stream",
          "name": "stdout",
          "text": [
            "Index(['name', 'species', 'gender', 'personality', 'hobby', 'birthday',\n",
            "       'catchphrase', 'favorite_song', 'style_1', 'style_2', 'color_1',\n",
            "       'color_2', 'wallpaper', 'flooring', 'furniture_list', 'filename',\n",
            "       'unique_entry_id'],\n",
            "      dtype='object')\n",
            "           name species gender personality   hobby birthday catchphrase  \\\n",
            "count       391     391    391         391     391      391         391   \n",
            "unique      391      35      2           8       6      361         388   \n",
            "top     Admiral     Cat   Male        Lazy  Nature   27-Jan     sweetie   \n",
            "freq          1      23    204          60      66        2           2   \n",
            "\n",
            "       favorite_song style_1 style_2 color_1 color_2            wallpaper  \\\n",
            "count            391     391     391     391     391                  391   \n",
            "unique            89       6       6      14      14                  154   \n",
            "top      Forest Life  Simple  Simple   Black     Red  backyard-fence wall   \n",
            "freq              15     118     110      47      53                   13   \n",
            "\n",
            "             flooring                                     furniture_list  \\\n",
            "count             391                                                391   \n",
            "unique            128                                                391   \n",
            "top     backyard lawn  717;1849;7047;2736;787;5970;3449;3622;3802;410...   \n",
            "freq               13                                                  1   \n",
            "\n",
            "       filename    unique_entry_id  \n",
            "count       391                391  \n",
            "unique      391                391  \n",
            "top       brd06  B3RyfNEqwGmcccRC3  \n",
            "freq          1                  1  \n",
            "(391, 17)\n"
          ]
        }
      ]
    },
    {
      "cell_type": "code",
      "source": [
        "duckdb.sql(\"SELECT DISTINCT name,interact, FROM housewares_df WHERE DIY = 'Yes' \")"
      ],
      "metadata": {
        "colab": {
          "base_uri": "https://localhost:8080/"
        },
        "id": "Uos0j-dANbb5",
        "outputId": "650ad60a-8ee2-4300-c91c-3379ee3bf93c"
      },
      "execution_count": 20,
      "outputs": [
        {
          "output_type": "execute_result",
          "data": {
            "text/plain": [
              "┌────────────────────────┬──────────┐\n",
              "│          name          │ interact │\n",
              "│        varchar         │ varchar  │\n",
              "├────────────────────────┼──────────┤\n",
              "│ angled signpost        │ No       │\n",
              "│ apple chair            │ Yes      │\n",
              "│ Aquarius urn           │ No       │\n",
              "│ asteroid               │ Yes      │\n",
              "│ bamboo bench           │ Yes      │\n",
              "│ bamboo doll            │ Yes      │\n",
              "│ bamboo noodle slide    │ Yes      │\n",
              "│ beekeeper's hive       │ No       │\n",
              "│ birdbath               │ No       │\n",
              "│ bonfire                │ Yes      │\n",
              "│    ·                   │ ·        │\n",
              "│    ·                   │ ·        │\n",
              "│    ·                   │ ·        │\n",
              "│ wooden table           │ No       │\n",
              "│ wooden waste bin       │ Trash    │\n",
              "│ wooden waste bin       │ Yes      │\n",
              "│ wooden-block bed       │ Yes      │\n",
              "│ wooden-block bench     │ Yes      │\n",
              "│ wooden-block bookshelf │ No       │\n",
              "│ wooden-block chest     │ Wardrobe │\n",
              "│ wooden-block stereo    │ Yes      │\n",
              "│ wooden-block stool     │ Yes      │\n",
              "│ yellow-leaf pile       │ Yes      │\n",
              "├────────────────────────┴──────────┤\n",
              "│ 236 rows (20 shown)     2 columns │\n",
              "└───────────────────────────────────┘"
            ]
          },
          "metadata": {},
          "execution_count": 20
        }
      ]
    },
    {
      "cell_type": "code",
      "source": [
        "duckdb.sql(\"SELECT DISTINCT name, FROM housewares_df WHERE DIY = 'Yes' AND interact = 'Yes'\")"
      ],
      "metadata": {
        "colab": {
          "base_uri": "https://localhost:8080/"
        },
        "id": "K2Au--cwOnS1",
        "outputId": "b94c3643-7aa1-40a0-f70e-19dfd64b9a62"
      },
      "execution_count": 21,
      "outputs": [
        {
          "output_type": "execute_result",
          "data": {
            "text/plain": [
              "┌─────────────────────────┐\n",
              "│          name           │\n",
              "│         varchar         │\n",
              "├─────────────────────────┤\n",
              "│ apple chair             │\n",
              "│ Aries rocking chair     │\n",
              "│ asteroid                │\n",
              "│ bamboo doll             │\n",
              "│ bamboo floor lamp       │\n",
              "│ bamboo speaker          │\n",
              "│ bamboo stool            │\n",
              "│ blossom-viewing lantern │\n",
              "│ Bunny Day bed           │\n",
              "│ campfire                │\n",
              "│    ·                    │\n",
              "│    ·                    │\n",
              "│    ·                    │\n",
              "│ swinging bench          │\n",
              "│ tall lantern            │\n",
              "│ tiki torch              │\n",
              "│ tire toy                │\n",
              "│ wooden chair            │\n",
              "│ wooden double bed       │\n",
              "│ wooden stool            │\n",
              "│ wooden-block bed        │\n",
              "│ wooden-block chair      │\n",
              "│ wooden-block stereo     │\n",
              "├─────────────────────────┤\n",
              "│   110 rows (20 shown)   │\n",
              "└─────────────────────────┘"
            ]
          },
          "metadata": {},
          "execution_count": 21
        }
      ]
    },
    {
      "cell_type": "code",
      "source": [
        "duckdb.sql(\"SELECT name,species,personality,catchphrase, birthday,flooring,favorite_song FROM villagers_df WHERE name = 'Al' OR name = 'Audie' OR name ='Marina' OR name ='Renée' OR name = 'Flora' OR name = 'Lobo' OR name ='Bob' OR name = 'Mint' OR name = 'Snake' ORDER BY personality ASC\")"
      ],
      "metadata": {
        "id": "ps10l8-hOzy0",
        "colab": {
          "base_uri": "https://localhost:8080/"
        },
        "outputId": "202e2158-eaaa-4223-c65a-77fced1efcdf"
      },
      "execution_count": 22,
      "outputs": [
        {
          "output_type": "execute_result",
          "data": {
            "text/plain": [
              "┌─────────┬──────────┬─────────────┬─────────────┬──────────┬───────────────────────────┬───────────────┐\n",
              "│  name   │ species  │ personality │ catchphrase │ birthday │         flooring          │ favorite_song │\n",
              "│ varchar │ varchar  │   varchar   │   varchar   │ varchar  │          varchar          │    varchar    │\n",
              "├─────────┼──────────┼─────────────┼─────────────┼──────────┼───────────────────────────┼───────────────┤\n",
              "│ Renée   │ Rhino    │ Big Sister  │ yo yo yo    │ 28-May   │ tiger-print flooring      │ Surfin' K.K.  │\n",
              "│ Lobo    │ Wolf     │ Cranky      │ ah-rooooo   │ 5-Nov    │ rosewood flooring         │ K.K. Rock     │\n",
              "│ Snake   │ Rabbit   │ Jock        │ bunyip      │ 3-Nov    │ dirt flooring             │ King K.K.     │\n",
              "│ Al      │ Gorilla  │ Lazy        │ ayyyeee     │ 18-Oct   │ green rubber flooring     │ Go K.K. Rider │\n",
              "│ Bob     │ Cat      │ Lazy        │ pthhpth     │ 1-Jan    │ colorful puzzle flooring  │ Neapolitan    │\n",
              "│ Marina  │ Octopus  │ Normal      │ blurp       │ 26-Jun   │ berry-chocolates flooring │ Soulful K.K.  │\n",
              "│ Audie   │ Wolf     │ Peppy       │ foxtrot     │ 31-Aug   │ green floral flooring     │ K.K. Island   │\n",
              "│ Flora   │ Ostrich  │ Peppy       │ pinky       │ 9-Feb    │ oasis flooring            │ K.K. Condor   │\n",
              "│ Mint    │ Squirrel │ Snooty      │ ahhhhhh     │ 2-May    │ mint dot flooring         │ K.K. Soul     │\n",
              "└─────────┴──────────┴─────────────┴─────────────┴──────────┴───────────────────────────┴───────────────┘"
            ]
          },
          "metadata": {},
          "execution_count": 22
        }
      ]
    },
    {
      "cell_type": "code",
      "source": [
        "duckdb.sql(\"SELECT * FROM housewares_df \")\n",
        "print(housewares_df.columns)\n",
        "print(housewares_df.describe())\n",
        "print(housewares_df.shape)"
      ],
      "metadata": {
        "colab": {
          "base_uri": "https://localhost:8080/"
        },
        "id": "LofQ_2aAkO9T",
        "outputId": "47e91361-7679-4aa0-cdce-52f1e38c5a4a"
      },
      "execution_count": 23,
      "outputs": [
        {
          "output_type": "stream",
          "name": "stdout",
          "text": [
            "Index(['name', 'variation', 'body_title', 'pattern', 'pattern_title', 'diy',\n",
            "       'body_customize', 'pattern_customize', 'kit_cost', 'buy', 'sell',\n",
            "       'color_1', 'color_2', 'size', 'miles_price', 'source', 'source_notes',\n",
            "       'version', 'hha_concept_1', 'hha_concept_2', 'hha_series', 'hha_set',\n",
            "       'interact', 'tag', 'outdoor', 'speaker_type', 'lighting_type',\n",
            "       'catalog', 'filename', 'variant_id', 'internal_id', 'unique_entry_id'],\n",
            "      dtype='object')\n",
            "          kit_cost           sell  miles_price   internal_id\n",
            "count  2239.000000    3275.000000   115.000000   3275.000000\n",
            "mean      3.263064    4011.301985  2514.782609   3605.981679\n",
            "std       3.493774   13823.831987  1275.975270   2379.456027\n",
            "min       1.000000      20.000000  1000.000000     80.000000\n",
            "25%       1.000000     575.000000  2000.000000   1645.000000\n",
            "50%       2.000000    1250.000000  2000.000000   3500.000000\n",
            "75%       4.000000    2400.000000  3000.000000   4081.000000\n",
            "max      50.000000  250000.000000  5000.000000  12437.000000\n",
            "(3275, 32)\n"
          ]
        }
      ]
    },
    {
      "cell_type": "code",
      "source": [
        "duckdb.sql(\"SELECT name,hha_series FROM housewares_df WHERE NOT hha_series = 'None'\")"
      ],
      "metadata": {
        "colab": {
          "base_uri": "https://localhost:8080/"
        },
        "id": "SUbi9iS6P1M4",
        "outputId": "147e4f39-6925-4d0f-e11e-3c772cb9b77c"
      },
      "execution_count": 25,
      "outputs": [
        {
          "output_type": "execute_result",
          "data": {
            "text/plain": [
              "┌────────────────────┬─────────────────────────┐\n",
              "│        name        │       hha_series        │\n",
              "│      varchar       │         varchar         │\n",
              "├────────────────────┼─────────────────────────┤\n",
              "│ antique bed        │ antique                 │\n",
              "│ antique bed        │ antique                 │\n",
              "│ antique bed        │ antique                 │\n",
              "│ antique bureau     │ antique                 │\n",
              "│ antique bureau     │ antique                 │\n",
              "│ antique bureau     │ antique                 │\n",
              "│ antique chair      │ antique                 │\n",
              "│ antique chair      │ antique                 │\n",
              "│ antique chair      │ antique                 │\n",
              "│ antique clock      │ antique                 │\n",
              "│       ·            │    ·                    │\n",
              "│       ·            │    ·                    │\n",
              "│       ·            │    ·                    │\n",
              "│ wooden-block stool │ wooden block            │\n",
              "│ wooden-block stool │ wooden block            │\n",
              "│ wooden-block stool │ wooden block            │\n",
              "│ wooden-block stool │ wooden block            │\n",
              "│ wooden-block table │ wooden block            │\n",
              "│ wooden-block table │ wooden block            │\n",
              "│ wooden-block table │ wooden block            │\n",
              "│ wooden-block table │ wooden block            │\n",
              "│ wooden-block table │ wooden block            │\n",
              "│ yellow-leaf pile   │ tree's bounty or leaves │\n",
              "├────────────────────┴─────────────────────────┤\n",
              "│ 1076 rows (20 shown)               2 columns │\n",
              "└──────────────────────────────────────────────┘"
            ]
          },
          "metadata": {},
          "execution_count": 25
        }
      ]
    },
    {
      "cell_type": "code",
      "source": [
        "duckdb.sql(\"SELECT DISTINCT hha_series FROM housewares_df\")"
      ],
      "metadata": {
        "colab": {
          "base_uri": "https://localhost:8080/"
        },
        "id": "BiwfUDZQQD9I",
        "outputId": "11cf857d-916e-49b7-af28-98fc31255efc"
      },
      "execution_count": 26,
      "outputs": [
        {
          "output_type": "execute_result",
          "data": {
            "text/plain": [
              "┌─────────────────────────┐\n",
              "│       hha_series        │\n",
              "│         varchar         │\n",
              "├─────────────────────────┤\n",
              "│ None                    │\n",
              "│ antique                 │\n",
              "│ stars                   │\n",
              "│ bamboo                  │\n",
              "│ festive                 │\n",
              "│ cherry blossoms         │\n",
              "│ Bunny Day               │\n",
              "│ cardboard               │\n",
              "│ cute                    │\n",
              "│ diner                   │\n",
              "│   ·                     │\n",
              "│   ·                     │\n",
              "│   ·                     │\n",
              "│ wooden block            │\n",
              "│ fruits                  │\n",
              "│ flowers                 │\n",
              "│ zen                     │\n",
              "│ iron                    │\n",
              "│ tree's bounty or leaves │\n",
              "│ log                     │\n",
              "│ shell                   │\n",
              "│ wedding                 │\n",
              "│ wooden                  │\n",
              "├─────────────────────────┤\n",
              "│   26 rows (20 shown)    │\n",
              "└─────────────────────────┘"
            ]
          },
          "metadata": {},
          "execution_count": 26
        }
      ]
    },
    {
      "cell_type": "code",
      "source": [
        "duckdb.sql(\"SELECT DISTINCT name, hha_series FROM housewares_df WHERE hha_series ='cute' OR hha_series ='zen'\")"
      ],
      "metadata": {
        "colab": {
          "base_uri": "https://localhost:8080/"
        },
        "id": "7xFrwvcUQPUN",
        "outputId": "3e1ca9a7-704f-41a8-b2d2-eb69c36d4e67"
      },
      "execution_count": 30,
      "outputs": [
        {
          "output_type": "execute_result",
          "data": {
            "text/plain": [
              "┌────────────────────┬────────────┐\n",
              "│        name        │ hha_series │\n",
              "│      varchar       │  varchar   │\n",
              "├────────────────────┼────────────┤\n",
              "│ cute bed           │ cute       │\n",
              "│ cute DIY table     │ cute       │\n",
              "│ cute tea table     │ cute       │\n",
              "│ imperial low table │ zen        │\n",
              "│ cute chair         │ cute       │\n",
              "│ cute floor lamp    │ cute       │\n",
              "│ cute sofa          │ cute       │\n",
              "│ cute vanity        │ cute       │\n",
              "│ cute wardrobe      │ cute       │\n",
              "│ imperial bed       │ zen        │\n",
              "│ imperial chest     │ zen        │\n",
              "│ imperial partition │ zen        │\n",
              "├────────────────────┴────────────┤\n",
              "│ 12 rows               2 columns │\n",
              "└─────────────────────────────────┘"
            ]
          },
          "metadata": {},
          "execution_count": 30
        }
      ]
    },
    {
      "cell_type": "code",
      "source": [
        "duckdb.sql(\"SELECT DISTINCT hha_concept_1 FROM housewares_df ORDER BY hha_concept_1 ASC\")"
      ],
      "metadata": {
        "colab": {
          "base_uri": "https://localhost:8080/"
        },
        "id": "z0-h_JGUQr6a",
        "outputId": "1e43089f-132b-478e-a076-7d015f07fbaa"
      },
      "execution_count": 33,
      "outputs": [
        {
          "output_type": "execute_result",
          "data": {
            "text/plain": [
              "┌───────────────┐\n",
              "│ hha_concept_1 │\n",
              "│    varchar    │\n",
              "├───────────────┤\n",
              "│ None          │\n",
              "│ bathroom      │\n",
              "│ child's room  │\n",
              "│ concert       │\n",
              "│ den           │\n",
              "│ expensive     │\n",
              "│ facility      │\n",
              "│ fancy         │\n",
              "│ fitness       │\n",
              "│ folk art      │\n",
              "│    ·          │\n",
              "│    ·          │\n",
              "│    ·          │\n",
              "│ living room   │\n",
              "│ music         │\n",
              "│ ocean         │\n",
              "│ office        │\n",
              "│ outdoors      │\n",
              "│ party         │\n",
              "│ school        │\n",
              "│ shop          │\n",
              "│ space         │\n",
              "│ zen-style     │\n",
              "├───────────────┤\n",
              "│    24 rows    │\n",
              "│  (20 shown)   │\n",
              "└───────────────┘"
            ]
          },
          "metadata": {},
          "execution_count": 33
        }
      ]
    },
    {
      "cell_type": "code",
      "source": [
        "duckdb.sql(\"SELECT DISTINCT name, hha_concept_1 FROM housewares_df WHERE hha_concept_1 = 'zen-style'\")"
      ],
      "metadata": {
        "colab": {
          "base_uri": "https://localhost:8080/"
        },
        "id": "J-XL11nGQ8eB",
        "outputId": "b07f79a4-04b5-420f-94b2-9c03fd378a50"
      },
      "execution_count": 35,
      "outputs": [
        {
          "output_type": "execute_result",
          "data": {
            "text/plain": [
              "┌───────────────────────────┬───────────────┐\n",
              "│           name            │ hha_concept_1 │\n",
              "│          varchar          │    varchar    │\n",
              "├───────────────────────────┼───────────────┤\n",
              "│ bamboo basket             │ zen-style     │\n",
              "│ bamboo floor lamp         │ zen-style     │\n",
              "│ bamboo partition          │ zen-style     │\n",
              "│ bamboo shelf              │ zen-style     │\n",
              "│ bamboo speaker            │ zen-style     │\n",
              "│ bamboo stool              │ zen-style     │\n",
              "│ bamboo stopblock          │ zen-style     │\n",
              "│ blossom-viewing lantern   │ zen-style     │\n",
              "│ cherry-blossom pond stone │ zen-style     │\n",
              "│ deer scare                │ zen-style     │\n",
              "│     ·                     │     ·         │\n",
              "│     ·                     │     ·         │\n",
              "│     ·                     │     ·         │\n",
              "│ maple-leaf pond stone     │ zen-style     │\n",
              "│ mossy garden rock         │ zen-style     │\n",
              "│ outdoor picnic set        │ zen-style     │\n",
              "│ paper lantern             │ zen-style     │\n",
              "│ pile of zen cushions      │ zen-style     │\n",
              "│ screen                    │ zen-style     │\n",
              "│ squat toilet              │ zen-style     │\n",
              "│ tatami bed                │ zen-style     │\n",
              "│ zen cushion               │ zen-style     │\n",
              "│ zen-style stone           │ zen-style     │\n",
              "├───────────────────────────┴───────────────┤\n",
              "│ 46 rows (20 shown)              2 columns │\n",
              "└───────────────────────────────────────────┘"
            ]
          },
          "metadata": {},
          "execution_count": 35
        }
      ]
    },
    {
      "cell_type": "code",
      "source": [],
      "metadata": {
        "id": "Pi5pKL5DRVdA"
      },
      "execution_count": null,
      "outputs": []
    }
  ]
}