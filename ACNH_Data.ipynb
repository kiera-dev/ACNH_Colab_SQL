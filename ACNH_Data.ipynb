{
  "nbformat": 4,
  "nbformat_minor": 0,
  "metadata": {
    "colab": {
      "provenance": [],
      "mount_file_id": "1FXt2SrO4LvhDLKTAsHyIAVXbKIMY1-po",
      "authorship_tag": "ABX9TyMCYcA6quNLbPylAKJTDjBx",
      "include_colab_link": true
    },
    "kernelspec": {
      "name": "python3",
      "display_name": "Python 3"
    },
    "language_info": {
      "name": "python"
    }
  },
  "cells": [
    {
      "cell_type": "markdown",
      "metadata": {
        "id": "view-in-github",
        "colab_type": "text"
      },
      "source": [
        "<a href=\"https://colab.research.google.com/github/kiera-dev/ACNH_Colab_SQL/blob/main/ACNH_Data.ipynb\" target=\"_parent\"><img src=\"https://colab.research.google.com/assets/colab-badge.svg\" alt=\"Open In Colab\"/></a>"
      ]
    },
    {
      "cell_type": "code",
      "execution_count": null,
      "metadata": {
        "id": "_05OCrMVcXbh"
      },
      "outputs": [],
      "source": [
        "%%capture\n",
        "!pip install duckdb"
      ]
    },
    {
      "cell_type": "code",
      "source": [
        "import duckdb, os\n",
        "import pandas as pd\n",
        "\n",
        "acnh_villagers_csv_path = \"/content/drive/MyDrive/acnh_data/villagers.csv\"\n",
        "\n",
        "if os.path.exists(acnh_villagers_csv_path):\n",
        "  print(f\"Loading: {acnh_villagers_csv_path}\")\n",
        "  villagers_acnh_df = pd.read_csv(acnh_villagers_csv_path)\n",
        "else:\n",
        "  print(f\"Derp\")\n",
        "\n",
        "villagers_acnh_df"
      ],
      "metadata": {
        "colab": {
          "base_uri": "https://localhost:8080/",
          "height": 694
        },
        "id": "0l6QOavSomgH",
        "outputId": "c0651d4a-d9f5-4c82-a700-8f5820e1faa3"
      },
      "execution_count": 75,
      "outputs": [
        {
          "output_type": "stream",
          "name": "stdout",
          "text": [
            "Loading: /content/drive/MyDrive/acnh_data/villagers.csv\n"
          ]
        },
        {
          "output_type": "execute_result",
          "data": {
            "text/plain": [
              "         Name    Species  Gender Personality      Hobby Birthday Catchphrase  \\\n",
              "0     Admiral       Bird    Male      Cranky     Nature   27-Jan     aye aye   \n",
              "1     Agent S   Squirrel  Female       Peppy    Fitness    2-Jul    sidekick   \n",
              "2       Agnes        Pig  Female  Big Sister       Play   21-Apr     snuffle   \n",
              "3          Al    Gorilla    Male        Lazy    Fitness   18-Oct     ayyyeee   \n",
              "4     Alfonso  Alligator    Male        Lazy       Play    9-Jun    it'sa me   \n",
              "..        ...        ...     ...         ...        ...      ...         ...   \n",
              "386    Winnie      Horse  Female       Peppy    Fashion   31-Jan      hay-OK   \n",
              "387  Wolfgang       Wolf    Male      Cranky  Education   25-Nov     snarrrl   \n",
              "388      Yuka      Koala  Female      Snooty    Fashion   20-Jul     tsk tsk   \n",
              "389      Zell       Deer    Male        Smug      Music    7-Jun       pronk   \n",
              "390    Zucker    Octopus    Male        Lazy     Nature    8-Mar       bloop   \n",
              "\n",
              "       Favorite Song Style 1   Style 2 Color 1 Color 2  \\\n",
              "0         Steep Hill    Cool      Cool   Black    Blue   \n",
              "1      Go K.K. Rider  Active    Simple    Blue   Black   \n",
              "2         K.K. House  Simple   Elegant    Pink   White   \n",
              "3      Go K.K. Rider  Active    Active     Red   White   \n",
              "4        Forest Life  Simple    Simple     Red    Blue   \n",
              "..               ...     ...       ...     ...     ...   \n",
              "386     K.K. Country    Cool    Simple   White    Gray   \n",
              "387         K.K. D&B    Cool    Active   Black   Green   \n",
              "388     Soulful K.K.    Cool   Elegant  Orange  Yellow   \n",
              "389       K.K. Swing    Cool  Gorgeous  Purple    Gray   \n",
              "390  Spring Blossoms  Simple      Cute    Blue  Yellow   \n",
              "\n",
              "                   Wallpaper                     Flooring  \\\n",
              "0             dirt-clod wall                       tatami   \n",
              "1              concrete wall       colorful tile flooring   \n",
              "2     gray molded-panel wall           arabesque flooring   \n",
              "3              concrete wall        green rubber flooring   \n",
              "4       yellow playroom wall         green honeycomb tile   \n",
              "..                       ...                          ...   \n",
              "386      backyard-fence wall                backyard lawn   \n",
              "387  dark wooden-mosaic wall              stripe flooring   \n",
              "388      beige art-deco wall       simple purple flooring   \n",
              "389           cityscape wall  monochromatic tile flooring   \n",
              "390         chain-link fence                backyard lawn   \n",
              "\n",
              "                                        Furniture List Filename  \\\n",
              "0    717;1849;7047;2736;787;5970;3449;3622;3802;410...    brd06   \n",
              "1    7845;7150;3468;4080;290;3971;3449;1708;4756;25...    squ05   \n",
              "2    4129;7236;7235;7802;896;3428;4027;7325;3958;71...    pig17   \n",
              "3    1452;4078;4013;833;4116;3697;7845;3307;3946;39...    gor08   \n",
              "4    4763;3205;3701;1557;3623;85;3208;3584;4761;121...    crd00   \n",
              "..                                                 ...      ...   \n",
              "386  1626;1626;5970;4003;3509;1620;1627;3467;1631;1...    hrs05   \n",
              "387  4117;7323;7323;3275;4109;3270;3196;4338;3200;3...    wol02   \n",
              "388    3957;3955;2554;3974;3951;794;4106;3959;3958;997    kal00   \n",
              "389  1875;863;4129;4053;4053;3951;794;3775;4046;423...    der02   \n",
              "390  4042;4412;7526;4077;4077;3064;4077;3946;3617;3...    ocp02   \n",
              "\n",
              "       Unique Entry ID  \n",
              "0    B3RyfNEqwGmcccRC3  \n",
              "1    SGMdki6dzpDZyXAw5  \n",
              "2    jzWCiDPm9MqtCfecP  \n",
              "3    LBifxETQJGEaLhBjC  \n",
              "4    REpd8KxB8p9aGBRSE  \n",
              "..                 ...  \n",
              "386  b4HwfyvThyipScSAv  \n",
              "387  RbF2wcn6jRxtgLDRd  \n",
              "388  QDcxk3dCNT6yeD9hk  \n",
              "389  LodBWtdMRZbjFNga9  \n",
              "390  2F5tipHqgmWvWXTLC  \n",
              "\n",
              "[391 rows x 17 columns]"
            ],
            "text/html": [
              "\n",
              "  <div id=\"df-1dce5326-820a-48a4-9a7a-2522a14ed06a\" class=\"colab-df-container\">\n",
              "    <div>\n",
              "<style scoped>\n",
              "    .dataframe tbody tr th:only-of-type {\n",
              "        vertical-align: middle;\n",
              "    }\n",
              "\n",
              "    .dataframe tbody tr th {\n",
              "        vertical-align: top;\n",
              "    }\n",
              "\n",
              "    .dataframe thead th {\n",
              "        text-align: right;\n",
              "    }\n",
              "</style>\n",
              "<table border=\"1\" class=\"dataframe\">\n",
              "  <thead>\n",
              "    <tr style=\"text-align: right;\">\n",
              "      <th></th>\n",
              "      <th>Name</th>\n",
              "      <th>Species</th>\n",
              "      <th>Gender</th>\n",
              "      <th>Personality</th>\n",
              "      <th>Hobby</th>\n",
              "      <th>Birthday</th>\n",
              "      <th>Catchphrase</th>\n",
              "      <th>Favorite Song</th>\n",
              "      <th>Style 1</th>\n",
              "      <th>Style 2</th>\n",
              "      <th>Color 1</th>\n",
              "      <th>Color 2</th>\n",
              "      <th>Wallpaper</th>\n",
              "      <th>Flooring</th>\n",
              "      <th>Furniture List</th>\n",
              "      <th>Filename</th>\n",
              "      <th>Unique Entry ID</th>\n",
              "    </tr>\n",
              "  </thead>\n",
              "  <tbody>\n",
              "    <tr>\n",
              "      <th>0</th>\n",
              "      <td>Admiral</td>\n",
              "      <td>Bird</td>\n",
              "      <td>Male</td>\n",
              "      <td>Cranky</td>\n",
              "      <td>Nature</td>\n",
              "      <td>27-Jan</td>\n",
              "      <td>aye aye</td>\n",
              "      <td>Steep Hill</td>\n",
              "      <td>Cool</td>\n",
              "      <td>Cool</td>\n",
              "      <td>Black</td>\n",
              "      <td>Blue</td>\n",
              "      <td>dirt-clod wall</td>\n",
              "      <td>tatami</td>\n",
              "      <td>717;1849;7047;2736;787;5970;3449;3622;3802;410...</td>\n",
              "      <td>brd06</td>\n",
              "      <td>B3RyfNEqwGmcccRC3</td>\n",
              "    </tr>\n",
              "    <tr>\n",
              "      <th>1</th>\n",
              "      <td>Agent S</td>\n",
              "      <td>Squirrel</td>\n",
              "      <td>Female</td>\n",
              "      <td>Peppy</td>\n",
              "      <td>Fitness</td>\n",
              "      <td>2-Jul</td>\n",
              "      <td>sidekick</td>\n",
              "      <td>Go K.K. Rider</td>\n",
              "      <td>Active</td>\n",
              "      <td>Simple</td>\n",
              "      <td>Blue</td>\n",
              "      <td>Black</td>\n",
              "      <td>concrete wall</td>\n",
              "      <td>colorful tile flooring</td>\n",
              "      <td>7845;7150;3468;4080;290;3971;3449;1708;4756;25...</td>\n",
              "      <td>squ05</td>\n",
              "      <td>SGMdki6dzpDZyXAw5</td>\n",
              "    </tr>\n",
              "    <tr>\n",
              "      <th>2</th>\n",
              "      <td>Agnes</td>\n",
              "      <td>Pig</td>\n",
              "      <td>Female</td>\n",
              "      <td>Big Sister</td>\n",
              "      <td>Play</td>\n",
              "      <td>21-Apr</td>\n",
              "      <td>snuffle</td>\n",
              "      <td>K.K. House</td>\n",
              "      <td>Simple</td>\n",
              "      <td>Elegant</td>\n",
              "      <td>Pink</td>\n",
              "      <td>White</td>\n",
              "      <td>gray molded-panel wall</td>\n",
              "      <td>arabesque flooring</td>\n",
              "      <td>4129;7236;7235;7802;896;3428;4027;7325;3958;71...</td>\n",
              "      <td>pig17</td>\n",
              "      <td>jzWCiDPm9MqtCfecP</td>\n",
              "    </tr>\n",
              "    <tr>\n",
              "      <th>3</th>\n",
              "      <td>Al</td>\n",
              "      <td>Gorilla</td>\n",
              "      <td>Male</td>\n",
              "      <td>Lazy</td>\n",
              "      <td>Fitness</td>\n",
              "      <td>18-Oct</td>\n",
              "      <td>ayyyeee</td>\n",
              "      <td>Go K.K. Rider</td>\n",
              "      <td>Active</td>\n",
              "      <td>Active</td>\n",
              "      <td>Red</td>\n",
              "      <td>White</td>\n",
              "      <td>concrete wall</td>\n",
              "      <td>green rubber flooring</td>\n",
              "      <td>1452;4078;4013;833;4116;3697;7845;3307;3946;39...</td>\n",
              "      <td>gor08</td>\n",
              "      <td>LBifxETQJGEaLhBjC</td>\n",
              "    </tr>\n",
              "    <tr>\n",
              "      <th>4</th>\n",
              "      <td>Alfonso</td>\n",
              "      <td>Alligator</td>\n",
              "      <td>Male</td>\n",
              "      <td>Lazy</td>\n",
              "      <td>Play</td>\n",
              "      <td>9-Jun</td>\n",
              "      <td>it'sa me</td>\n",
              "      <td>Forest Life</td>\n",
              "      <td>Simple</td>\n",
              "      <td>Simple</td>\n",
              "      <td>Red</td>\n",
              "      <td>Blue</td>\n",
              "      <td>yellow playroom wall</td>\n",
              "      <td>green honeycomb tile</td>\n",
              "      <td>4763;3205;3701;1557;3623;85;3208;3584;4761;121...</td>\n",
              "      <td>crd00</td>\n",
              "      <td>REpd8KxB8p9aGBRSE</td>\n",
              "    </tr>\n",
              "    <tr>\n",
              "      <th>...</th>\n",
              "      <td>...</td>\n",
              "      <td>...</td>\n",
              "      <td>...</td>\n",
              "      <td>...</td>\n",
              "      <td>...</td>\n",
              "      <td>...</td>\n",
              "      <td>...</td>\n",
              "      <td>...</td>\n",
              "      <td>...</td>\n",
              "      <td>...</td>\n",
              "      <td>...</td>\n",
              "      <td>...</td>\n",
              "      <td>...</td>\n",
              "      <td>...</td>\n",
              "      <td>...</td>\n",
              "      <td>...</td>\n",
              "      <td>...</td>\n",
              "    </tr>\n",
              "    <tr>\n",
              "      <th>386</th>\n",
              "      <td>Winnie</td>\n",
              "      <td>Horse</td>\n",
              "      <td>Female</td>\n",
              "      <td>Peppy</td>\n",
              "      <td>Fashion</td>\n",
              "      <td>31-Jan</td>\n",
              "      <td>hay-OK</td>\n",
              "      <td>K.K. Country</td>\n",
              "      <td>Cool</td>\n",
              "      <td>Simple</td>\n",
              "      <td>White</td>\n",
              "      <td>Gray</td>\n",
              "      <td>backyard-fence wall</td>\n",
              "      <td>backyard lawn</td>\n",
              "      <td>1626;1626;5970;4003;3509;1620;1627;3467;1631;1...</td>\n",
              "      <td>hrs05</td>\n",
              "      <td>b4HwfyvThyipScSAv</td>\n",
              "    </tr>\n",
              "    <tr>\n",
              "      <th>387</th>\n",
              "      <td>Wolfgang</td>\n",
              "      <td>Wolf</td>\n",
              "      <td>Male</td>\n",
              "      <td>Cranky</td>\n",
              "      <td>Education</td>\n",
              "      <td>25-Nov</td>\n",
              "      <td>snarrrl</td>\n",
              "      <td>K.K. D&amp;B</td>\n",
              "      <td>Cool</td>\n",
              "      <td>Active</td>\n",
              "      <td>Black</td>\n",
              "      <td>Green</td>\n",
              "      <td>dark wooden-mosaic wall</td>\n",
              "      <td>stripe flooring</td>\n",
              "      <td>4117;7323;7323;3275;4109;3270;3196;4338;3200;3...</td>\n",
              "      <td>wol02</td>\n",
              "      <td>RbF2wcn6jRxtgLDRd</td>\n",
              "    </tr>\n",
              "    <tr>\n",
              "      <th>388</th>\n",
              "      <td>Yuka</td>\n",
              "      <td>Koala</td>\n",
              "      <td>Female</td>\n",
              "      <td>Snooty</td>\n",
              "      <td>Fashion</td>\n",
              "      <td>20-Jul</td>\n",
              "      <td>tsk tsk</td>\n",
              "      <td>Soulful K.K.</td>\n",
              "      <td>Cool</td>\n",
              "      <td>Elegant</td>\n",
              "      <td>Orange</td>\n",
              "      <td>Yellow</td>\n",
              "      <td>beige art-deco wall</td>\n",
              "      <td>simple purple flooring</td>\n",
              "      <td>3957;3955;2554;3974;3951;794;4106;3959;3958;997</td>\n",
              "      <td>kal00</td>\n",
              "      <td>QDcxk3dCNT6yeD9hk</td>\n",
              "    </tr>\n",
              "    <tr>\n",
              "      <th>389</th>\n",
              "      <td>Zell</td>\n",
              "      <td>Deer</td>\n",
              "      <td>Male</td>\n",
              "      <td>Smug</td>\n",
              "      <td>Music</td>\n",
              "      <td>7-Jun</td>\n",
              "      <td>pronk</td>\n",
              "      <td>K.K. Swing</td>\n",
              "      <td>Cool</td>\n",
              "      <td>Gorgeous</td>\n",
              "      <td>Purple</td>\n",
              "      <td>Gray</td>\n",
              "      <td>cityscape wall</td>\n",
              "      <td>monochromatic tile flooring</td>\n",
              "      <td>1875;863;4129;4053;4053;3951;794;3775;4046;423...</td>\n",
              "      <td>der02</td>\n",
              "      <td>LodBWtdMRZbjFNga9</td>\n",
              "    </tr>\n",
              "    <tr>\n",
              "      <th>390</th>\n",
              "      <td>Zucker</td>\n",
              "      <td>Octopus</td>\n",
              "      <td>Male</td>\n",
              "      <td>Lazy</td>\n",
              "      <td>Nature</td>\n",
              "      <td>8-Mar</td>\n",
              "      <td>bloop</td>\n",
              "      <td>Spring Blossoms</td>\n",
              "      <td>Simple</td>\n",
              "      <td>Cute</td>\n",
              "      <td>Blue</td>\n",
              "      <td>Yellow</td>\n",
              "      <td>chain-link fence</td>\n",
              "      <td>backyard lawn</td>\n",
              "      <td>4042;4412;7526;4077;4077;3064;4077;3946;3617;3...</td>\n",
              "      <td>ocp02</td>\n",
              "      <td>2F5tipHqgmWvWXTLC</td>\n",
              "    </tr>\n",
              "  </tbody>\n",
              "</table>\n",
              "<p>391 rows × 17 columns</p>\n",
              "</div>\n",
              "    <div class=\"colab-df-buttons\">\n",
              "\n",
              "  <div class=\"colab-df-container\">\n",
              "    <button class=\"colab-df-convert\" onclick=\"convertToInteractive('df-1dce5326-820a-48a4-9a7a-2522a14ed06a')\"\n",
              "            title=\"Convert this dataframe to an interactive table.\"\n",
              "            style=\"display:none;\">\n",
              "\n",
              "  <svg xmlns=\"http://www.w3.org/2000/svg\" height=\"24px\" viewBox=\"0 -960 960 960\">\n",
              "    <path d=\"M120-120v-720h720v720H120Zm60-500h600v-160H180v160Zm220 220h160v-160H400v160Zm0 220h160v-160H400v160ZM180-400h160v-160H180v160Zm440 0h160v-160H620v160ZM180-180h160v-160H180v160Zm440 0h160v-160H620v160Z\"/>\n",
              "  </svg>\n",
              "    </button>\n",
              "\n",
              "  <style>\n",
              "    .colab-df-container {\n",
              "      display:flex;\n",
              "      gap: 12px;\n",
              "    }\n",
              "\n",
              "    .colab-df-convert {\n",
              "      background-color: #E8F0FE;\n",
              "      border: none;\n",
              "      border-radius: 50%;\n",
              "      cursor: pointer;\n",
              "      display: none;\n",
              "      fill: #1967D2;\n",
              "      height: 32px;\n",
              "      padding: 0 0 0 0;\n",
              "      width: 32px;\n",
              "    }\n",
              "\n",
              "    .colab-df-convert:hover {\n",
              "      background-color: #E2EBFA;\n",
              "      box-shadow: 0px 1px 2px rgba(60, 64, 67, 0.3), 0px 1px 3px 1px rgba(60, 64, 67, 0.15);\n",
              "      fill: #174EA6;\n",
              "    }\n",
              "\n",
              "    .colab-df-buttons div {\n",
              "      margin-bottom: 4px;\n",
              "    }\n",
              "\n",
              "    [theme=dark] .colab-df-convert {\n",
              "      background-color: #3B4455;\n",
              "      fill: #D2E3FC;\n",
              "    }\n",
              "\n",
              "    [theme=dark] .colab-df-convert:hover {\n",
              "      background-color: #434B5C;\n",
              "      box-shadow: 0px 1px 3px 1px rgba(0, 0, 0, 0.15);\n",
              "      filter: drop-shadow(0px 1px 2px rgba(0, 0, 0, 0.3));\n",
              "      fill: #FFFFFF;\n",
              "    }\n",
              "  </style>\n",
              "\n",
              "    <script>\n",
              "      const buttonEl =\n",
              "        document.querySelector('#df-1dce5326-820a-48a4-9a7a-2522a14ed06a button.colab-df-convert');\n",
              "      buttonEl.style.display =\n",
              "        google.colab.kernel.accessAllowed ? 'block' : 'none';\n",
              "\n",
              "      async function convertToInteractive(key) {\n",
              "        const element = document.querySelector('#df-1dce5326-820a-48a4-9a7a-2522a14ed06a');\n",
              "        const dataTable =\n",
              "          await google.colab.kernel.invokeFunction('convertToInteractive',\n",
              "                                                    [key], {});\n",
              "        if (!dataTable) return;\n",
              "\n",
              "        const docLinkHtml = 'Like what you see? Visit the ' +\n",
              "          '<a target=\"_blank\" href=https://colab.research.google.com/notebooks/data_table.ipynb>data table notebook</a>'\n",
              "          + ' to learn more about interactive tables.';\n",
              "        element.innerHTML = '';\n",
              "        dataTable['output_type'] = 'display_data';\n",
              "        await google.colab.output.renderOutput(dataTable, element);\n",
              "        const docLink = document.createElement('div');\n",
              "        docLink.innerHTML = docLinkHtml;\n",
              "        element.appendChild(docLink);\n",
              "      }\n",
              "    </script>\n",
              "  </div>\n",
              "\n",
              "\n",
              "<div id=\"df-180d827e-c0f4-4199-b334-89ff7e0b42e7\">\n",
              "  <button class=\"colab-df-quickchart\" onclick=\"quickchart('df-180d827e-c0f4-4199-b334-89ff7e0b42e7')\"\n",
              "            title=\"Suggest charts\"\n",
              "            style=\"display:none;\">\n",
              "\n",
              "<svg xmlns=\"http://www.w3.org/2000/svg\" height=\"24px\"viewBox=\"0 0 24 24\"\n",
              "     width=\"24px\">\n",
              "    <g>\n",
              "        <path d=\"M19 3H5c-1.1 0-2 .9-2 2v14c0 1.1.9 2 2 2h14c1.1 0 2-.9 2-2V5c0-1.1-.9-2-2-2zM9 17H7v-7h2v7zm4 0h-2V7h2v10zm4 0h-2v-4h2v4z\"/>\n",
              "    </g>\n",
              "</svg>\n",
              "  </button>\n",
              "\n",
              "<style>\n",
              "  .colab-df-quickchart {\n",
              "      --bg-color: #E8F0FE;\n",
              "      --fill-color: #1967D2;\n",
              "      --hover-bg-color: #E2EBFA;\n",
              "      --hover-fill-color: #174EA6;\n",
              "      --disabled-fill-color: #AAA;\n",
              "      --disabled-bg-color: #DDD;\n",
              "  }\n",
              "\n",
              "  [theme=dark] .colab-df-quickchart {\n",
              "      --bg-color: #3B4455;\n",
              "      --fill-color: #D2E3FC;\n",
              "      --hover-bg-color: #434B5C;\n",
              "      --hover-fill-color: #FFFFFF;\n",
              "      --disabled-bg-color: #3B4455;\n",
              "      --disabled-fill-color: #666;\n",
              "  }\n",
              "\n",
              "  .colab-df-quickchart {\n",
              "    background-color: var(--bg-color);\n",
              "    border: none;\n",
              "    border-radius: 50%;\n",
              "    cursor: pointer;\n",
              "    display: none;\n",
              "    fill: var(--fill-color);\n",
              "    height: 32px;\n",
              "    padding: 0;\n",
              "    width: 32px;\n",
              "  }\n",
              "\n",
              "  .colab-df-quickchart:hover {\n",
              "    background-color: var(--hover-bg-color);\n",
              "    box-shadow: 0 1px 2px rgba(60, 64, 67, 0.3), 0 1px 3px 1px rgba(60, 64, 67, 0.15);\n",
              "    fill: var(--button-hover-fill-color);\n",
              "  }\n",
              "\n",
              "  .colab-df-quickchart-complete:disabled,\n",
              "  .colab-df-quickchart-complete:disabled:hover {\n",
              "    background-color: var(--disabled-bg-color);\n",
              "    fill: var(--disabled-fill-color);\n",
              "    box-shadow: none;\n",
              "  }\n",
              "\n",
              "  .colab-df-spinner {\n",
              "    border: 2px solid var(--fill-color);\n",
              "    border-color: transparent;\n",
              "    border-bottom-color: var(--fill-color);\n",
              "    animation:\n",
              "      spin 1s steps(1) infinite;\n",
              "  }\n",
              "\n",
              "  @keyframes spin {\n",
              "    0% {\n",
              "      border-color: transparent;\n",
              "      border-bottom-color: var(--fill-color);\n",
              "      border-left-color: var(--fill-color);\n",
              "    }\n",
              "    20% {\n",
              "      border-color: transparent;\n",
              "      border-left-color: var(--fill-color);\n",
              "      border-top-color: var(--fill-color);\n",
              "    }\n",
              "    30% {\n",
              "      border-color: transparent;\n",
              "      border-left-color: var(--fill-color);\n",
              "      border-top-color: var(--fill-color);\n",
              "      border-right-color: var(--fill-color);\n",
              "    }\n",
              "    40% {\n",
              "      border-color: transparent;\n",
              "      border-right-color: var(--fill-color);\n",
              "      border-top-color: var(--fill-color);\n",
              "    }\n",
              "    60% {\n",
              "      border-color: transparent;\n",
              "      border-right-color: var(--fill-color);\n",
              "    }\n",
              "    80% {\n",
              "      border-color: transparent;\n",
              "      border-right-color: var(--fill-color);\n",
              "      border-bottom-color: var(--fill-color);\n",
              "    }\n",
              "    90% {\n",
              "      border-color: transparent;\n",
              "      border-bottom-color: var(--fill-color);\n",
              "    }\n",
              "  }\n",
              "</style>\n",
              "\n",
              "  <script>\n",
              "    async function quickchart(key) {\n",
              "      const quickchartButtonEl =\n",
              "        document.querySelector('#' + key + ' button');\n",
              "      quickchartButtonEl.disabled = true;  // To prevent multiple clicks.\n",
              "      quickchartButtonEl.classList.add('colab-df-spinner');\n",
              "      try {\n",
              "        const charts = await google.colab.kernel.invokeFunction(\n",
              "            'suggestCharts', [key], {});\n",
              "      } catch (error) {\n",
              "        console.error('Error during call to suggestCharts:', error);\n",
              "      }\n",
              "      quickchartButtonEl.classList.remove('colab-df-spinner');\n",
              "      quickchartButtonEl.classList.add('colab-df-quickchart-complete');\n",
              "    }\n",
              "    (() => {\n",
              "      let quickchartButtonEl =\n",
              "        document.querySelector('#df-180d827e-c0f4-4199-b334-89ff7e0b42e7 button');\n",
              "      quickchartButtonEl.style.display =\n",
              "        google.colab.kernel.accessAllowed ? 'block' : 'none';\n",
              "    })();\n",
              "  </script>\n",
              "</div>\n",
              "\n",
              "  <div id=\"id_a59e165d-607b-41c3-bca0-f48e0c172678\">\n",
              "    <style>\n",
              "      .colab-df-generate {\n",
              "        background-color: #E8F0FE;\n",
              "        border: none;\n",
              "        border-radius: 50%;\n",
              "        cursor: pointer;\n",
              "        display: none;\n",
              "        fill: #1967D2;\n",
              "        height: 32px;\n",
              "        padding: 0 0 0 0;\n",
              "        width: 32px;\n",
              "      }\n",
              "\n",
              "      .colab-df-generate:hover {\n",
              "        background-color: #E2EBFA;\n",
              "        box-shadow: 0px 1px 2px rgba(60, 64, 67, 0.3), 0px 1px 3px 1px rgba(60, 64, 67, 0.15);\n",
              "        fill: #174EA6;\n",
              "      }\n",
              "\n",
              "      [theme=dark] .colab-df-generate {\n",
              "        background-color: #3B4455;\n",
              "        fill: #D2E3FC;\n",
              "      }\n",
              "\n",
              "      [theme=dark] .colab-df-generate:hover {\n",
              "        background-color: #434B5C;\n",
              "        box-shadow: 0px 1px 3px 1px rgba(0, 0, 0, 0.15);\n",
              "        filter: drop-shadow(0px 1px 2px rgba(0, 0, 0, 0.3));\n",
              "        fill: #FFFFFF;\n",
              "      }\n",
              "    </style>\n",
              "    <button class=\"colab-df-generate\" onclick=\"generateWithVariable('villagers_acnh_df')\"\n",
              "            title=\"Generate code using this dataframe.\"\n",
              "            style=\"display:none;\">\n",
              "\n",
              "  <svg xmlns=\"http://www.w3.org/2000/svg\" height=\"24px\"viewBox=\"0 0 24 24\"\n",
              "       width=\"24px\">\n",
              "    <path d=\"M7,19H8.4L18.45,9,17,7.55,7,17.6ZM5,21V16.75L18.45,3.32a2,2,0,0,1,2.83,0l1.4,1.43a1.91,1.91,0,0,1,.58,1.4,1.91,1.91,0,0,1-.58,1.4L9.25,21ZM18.45,9,17,7.55Zm-12,3A5.31,5.31,0,0,0,4.9,8.1,5.31,5.31,0,0,0,1,6.5,5.31,5.31,0,0,0,4.9,4.9,5.31,5.31,0,0,0,6.5,1,5.31,5.31,0,0,0,8.1,4.9,5.31,5.31,0,0,0,12,6.5,5.46,5.46,0,0,0,6.5,12Z\"/>\n",
              "  </svg>\n",
              "    </button>\n",
              "    <script>\n",
              "      (() => {\n",
              "      const buttonEl =\n",
              "        document.querySelector('#id_a59e165d-607b-41c3-bca0-f48e0c172678 button.colab-df-generate');\n",
              "      buttonEl.style.display =\n",
              "        google.colab.kernel.accessAllowed ? 'block' : 'none';\n",
              "\n",
              "      buttonEl.onclick = () => {\n",
              "        google.colab.notebook.generateWithVariable('villagers_acnh_df');\n",
              "      }\n",
              "      })();\n",
              "    </script>\n",
              "  </div>\n",
              "\n",
              "    </div>\n",
              "  </div>\n"
            ]
          },
          "metadata": {},
          "execution_count": 75
        }
      ]
    },
    {
      "source": [
        "from matplotlib import pyplot as plt\n",
        "import seaborn as sns\n",
        "villagers_acnh_df.groupby('Personality').size().plot(kind='barh', color=sns.palettes.mpl_palette('Dark2'))\n",
        "plt.gca().spines[['top', 'right',]].set_visible(False)"
      ],
      "cell_type": "code",
      "metadata": {
        "colab": {
          "base_uri": "https://localhost:8080/",
          "height": 430
        },
        "id": "JFzROU3ur_IU",
        "outputId": "3ce85f8e-1355-4c01-8bee-29856a0cfe06"
      },
      "execution_count": 76,
      "outputs": [
        {
          "output_type": "display_data",
          "data": {
            "text/plain": [
              "<Figure size 640x480 with 1 Axes>"
            ],
            "image/png": "[encoded data removed]"
          },
          "metadata": {}
        }
      ]
    },
    {
      "cell_type": "code",
      "source": [
        "duckdb.sql(\"SELECT name,gender,species,personality,catchphrase FROM villagers_acnh_df WHERE species = 'Cat'\")"
      ],
      "metadata": {
        "colab": {
          "base_uri": "https://localhost:8080/"
        },
        "id": "8zfqlwgEsUbT",
        "outputId": "488e6d78-1502-4838-f243-87ccc0a94cad"
      },
      "execution_count": 77,
      "outputs": [
        {
          "output_type": "execute_result",
          "data": {
            "text/plain": [
              "┌──────────┬─────────┬─────────┬─────────────┬─────────────┐\n",
              "│   Name   │ Gender  │ Species │ Personality │ Catchphrase │\n",
              "│ varchar  │ varchar │ varchar │   varchar   │   varchar   │\n",
              "├──────────┼─────────┼─────────┼─────────────┼─────────────┤\n",
              "│ Ankha    │ Female  │ Cat     │ Snooty      │ me meow     │\n",
              "│ Bob      │ Male    │ Cat     │ Lazy        │ pthhpth     │\n",
              "│ Felicity │ Female  │ Cat     │ Peppy       │ mimimi      │\n",
              "│ Kabuki   │ Male    │ Cat     │ Cranky      │ meooo-OH    │\n",
              "│ Katt     │ Female  │ Cat     │ Big Sister  │ purrty      │\n",
              "│ Kid Cat  │ Male    │ Cat     │ Jock        │ psst        │\n",
              "│ Kiki     │ Female  │ Cat     │ Normal      │ kitty cat   │\n",
              "│ Kitty    │ Female  │ Cat     │ Snooty      │ mrowrr      │\n",
              "│ Lolly    │ Female  │ Cat     │ Normal      │ bonbon      │\n",
              "│ Merry    │ Female  │ Cat     │ Peppy       │ mweee       │\n",
              "│ Mitzi    │ Female  │ Cat     │ Normal      │ mew         │\n",
              "│ Moe      │ Male    │ Cat     │ Lazy        │ myawn       │\n",
              "│ Monique  │ Female  │ Cat     │ Snooty      │ pffffft     │\n",
              "│ Olivia   │ Female  │ Cat     │ Snooty      │ purrr       │\n",
              "│ Punchy   │ Male    │ Cat     │ Lazy        │ mrmpht      │\n",
              "│ Purrl    │ Female  │ Cat     │ Snooty      │ kitten      │\n",
              "│ Raymond  │ Male    │ Cat     │ Smug        │ crisp       │\n",
              "│ Rosie    │ Female  │ Cat     │ Peppy       │ silly       │\n",
              "│ Rudy     │ Male    │ Cat     │ Jock        │ mush        │\n",
              "│ Stinky   │ Male    │ Cat     │ Jock        │ GAAHHH      │\n",
              "│ Tabby    │ Female  │ Cat     │ Peppy       │ me-WOW      │\n",
              "│ Tangy    │ Female  │ Cat     │ Peppy       │ reeeeOWR    │\n",
              "│ Tom      │ Male    │ Cat     │ Cranky      │ me-YOWZA    │\n",
              "├──────────┴─────────┴─────────┴─────────────┴─────────────┤\n",
              "│ 23 rows                                        5 columns │\n",
              "└──────────────────────────────────────────────────────────┘"
            ]
          },
          "metadata": {},
          "execution_count": 77
        }
      ]
    },
    {
      "cell_type": "code",
      "source": [
        "duckdb.sql(\"SELECT name,gender,species,personality,catchphrase FROM villagers_acnh_df WHERE species = 'Cat' AND personality = 'Peppy'\")"
      ],
      "metadata": {
        "colab": {
          "base_uri": "https://localhost:8080/"
        },
        "id": "muPMMC54uc5e",
        "outputId": "7aadc01d-1754-463c-a73a-cf08f5347fbb"
      },
      "execution_count": 78,
      "outputs": [
        {
          "output_type": "execute_result",
          "data": {
            "text/plain": [
              "┌──────────┬─────────┬─────────┬─────────────┬─────────────┐\n",
              "│   Name   │ Gender  │ Species │ Personality │ Catchphrase │\n",
              "│ varchar  │ varchar │ varchar │   varchar   │   varchar   │\n",
              "├──────────┼─────────┼─────────┼─────────────┼─────────────┤\n",
              "│ Felicity │ Female  │ Cat     │ Peppy       │ mimimi      │\n",
              "│ Merry    │ Female  │ Cat     │ Peppy       │ mweee       │\n",
              "│ Rosie    │ Female  │ Cat     │ Peppy       │ silly       │\n",
              "│ Tabby    │ Female  │ Cat     │ Peppy       │ me-WOW      │\n",
              "│ Tangy    │ Female  │ Cat     │ Peppy       │ reeeeOWR    │\n",
              "└──────────┴─────────┴─────────┴─────────────┴─────────────┘"
            ]
          },
          "metadata": {},
          "execution_count": 78
        }
      ]
    },
    {
      "cell_type": "code",
      "source": [
        "duckdb.sql(\"SELECT name,gender,species,personality,catchphrase FROM villagers_acnh_df WHERE species = 'Cat' AND name LIKE 'A%'\")"
      ],
      "metadata": {
        "colab": {
          "base_uri": "https://localhost:8080/"
        },
        "id": "WETS9zXBuoUu",
        "outputId": "694064b1-b208-40c3-c544-6f272029c68b"
      },
      "execution_count": 79,
      "outputs": [
        {
          "output_type": "execute_result",
          "data": {
            "text/plain": [
              "┌─────────┬─────────┬─────────┬─────────────┬─────────────┐\n",
              "│  Name   │ Gender  │ Species │ Personality │ Catchphrase │\n",
              "│ varchar │ varchar │ varchar │   varchar   │   varchar   │\n",
              "├─────────┼─────────┼─────────┼─────────────┼─────────────┤\n",
              "│ Ankha   │ Female  │ Cat     │ Snooty      │ me meow     │\n",
              "└─────────┴─────────┴─────────┴─────────────┴─────────────┘"
            ]
          },
          "metadata": {},
          "execution_count": 79
        }
      ]
    },
    {
      "cell_type": "code",
      "source": [
        "duckdb.sql(\"SELECT personality, COUNT(*) AS personality_count FROM villagers_acnh_df GROUP BY personality\")"
      ],
      "metadata": {
        "colab": {
          "base_uri": "https://localhost:8080/"
        },
        "id": "o-HtMlKlwDqB",
        "outputId": "918d6c33-db04-41f3-c831-758ce8b7c504"
      },
      "execution_count": 80,
      "outputs": [
        {
          "output_type": "execute_result",
          "data": {
            "text/plain": [
              "┌─────────────┬───────────────────┐\n",
              "│ Personality │ personality_count │\n",
              "│   varchar   │       int64       │\n",
              "├─────────────┼───────────────────┤\n",
              "│ Cranky      │                55 │\n",
              "│ Peppy       │                49 │\n",
              "│ Big Sister  │                24 │\n",
              "│ Lazy        │                60 │\n",
              "│ Normal      │                59 │\n",
              "│ Snooty      │                55 │\n",
              "│ Smug        │                34 │\n",
              "│ Jock        │                55 │\n",
              "└─────────────┴───────────────────┘"
            ]
          },
          "metadata": {},
          "execution_count": 80
        }
      ]
    },
    {
      "cell_type": "code",
      "source": [
        "duckdb.sql(\"SELECT personality, COUNT(*) AS personality_count, COUNT(*) * 100.0 / (SELECT COUNT(personality) FROM villagers_acnh_df ) AS personality_percentage FROM acnh_df GROUP BY personality ORDER BY personality_count ASC\")"
      ],
      "metadata": {
        "colab": {
          "base_uri": "https://localhost:8080/"
        },
        "id": "UWQSie_k11wH",
        "outputId": "ba335fdf-295a-495f-f4fa-2c0b55ef4fd2"
      },
      "execution_count": 81,
      "outputs": [
        {
          "output_type": "execute_result",
          "data": {
            "text/plain": [
              "┌─────────────┬───────────────────┬────────────────────────┐\n",
              "│ Personality │ personality_count │ personality_percentage │\n",
              "│   varchar   │       int64       │         double         │\n",
              "├─────────────┼───────────────────┼────────────────────────┤\n",
              "│ Big Sister  │                24 │      6.138107416879795 │\n",
              "│ Smug        │                34 │      8.695652173913043 │\n",
              "│ Peppy       │                49 │     12.531969309462916 │\n",
              "│ Cranky      │                55 │     14.066496163682864 │\n",
              "│ Snooty      │                55 │     14.066496163682864 │\n",
              "│ Jock        │                55 │     14.066496163682864 │\n",
              "│ Normal      │                59 │     15.089514066496164 │\n",
              "│ Lazy        │                60 │     15.345268542199488 │\n",
              "└─────────────┴───────────────────┴────────────────────────┘"
            ]
          },
          "metadata": {},
          "execution_count": 81
        }
      ]
    },
    {
      "cell_type": "code",
      "source": [
        "duckdb.sql(\"SELECT COUNT(*) * 100.0 / (SELECT COUNT(*) FROM villagers_acnh_df ) AS cranky_percentage FROM acnh_df WHERE personality = 'Cranky'\")"
      ],
      "metadata": {
        "colab": {
          "base_uri": "https://localhost:8080/"
        },
        "id": "sohOPn7t0Ch7",
        "outputId": "79d8cbad-f230-49c2-c5fa-028c6d4fac6e"
      },
      "execution_count": 82,
      "outputs": [
        {
          "output_type": "execute_result",
          "data": {
            "text/plain": [
              "┌────────────────────┐\n",
              "│ cranky_percentage  │\n",
              "│       double       │\n",
              "├────────────────────┤\n",
              "│ 14.066496163682864 │\n",
              "└────────────────────┘"
            ]
          },
          "metadata": {},
          "execution_count": 82
        }
      ]
    },
    {
      "cell_type": "code",
      "source": [
        "duckdb.sql(\"SELECT COUNT(*) * 100.0 / (SELECT COUNT(*) FROM villagers_acnh_df WHERE species = 'Cat') AS cat_cranky_percentage FROM acnh_df WHERE species = 'Cat' AND personality = 'Cranky'\")"
      ],
      "metadata": {
        "colab": {
          "base_uri": "https://localhost:8080/"
        },
        "id": "T_orygC00E6y",
        "outputId": "e7e9ae89-4445-48b6-b43b-e188b328bab8"
      },
      "execution_count": 83,
      "outputs": [
        {
          "output_type": "execute_result",
          "data": {
            "text/plain": [
              "┌───────────────────────┐\n",
              "│ cat_cranky_percentage │\n",
              "│        double         │\n",
              "├───────────────────────┤\n",
              "│     8.695652173913043 │\n",
              "└───────────────────────┘"
            ]
          },
          "metadata": {},
          "execution_count": 83
        }
      ]
    },
    {
      "cell_type": "code",
      "source": [
        "duckdb.sql(\"SELECT personality, COUNT(*) AS cat_personality_count, COUNT(*) * 100.0 / (SELECT COUNT(personality) FROM villagers_acnh_df WHERE species = 'Cat') AS cat_personality_percentage FROM villagers_acnh_df WHERE species = 'Cat' GROUP BY personality ORDER BY cat_personality_count ASC\")"
      ],
      "metadata": {
        "colab": {
          "base_uri": "https://localhost:8080/"
        },
        "id": "CqjsJaz85utl",
        "outputId": "dcdba409-c7d2-47ed-9f7a-d2568c1ee3ef"
      },
      "execution_count": 84,
      "outputs": [
        {
          "output_type": "execute_result",
          "data": {
            "text/plain": [
              "┌─────────────┬───────────────────────┬────────────────────────────┐\n",
              "│ Personality │ cat_personality_count │ cat_personality_percentage │\n",
              "│   varchar   │         int64         │           double           │\n",
              "├─────────────┼───────────────────────┼────────────────────────────┤\n",
              "│ Big Sister  │                     1 │         4.3478260869565215 │\n",
              "│ Smug        │                     1 │         4.3478260869565215 │\n",
              "│ Cranky      │                     2 │          8.695652173913043 │\n",
              "│ Lazy        │                     3 │         13.043478260869565 │\n",
              "│ Normal      │                     3 │         13.043478260869565 │\n",
              "│ Jock        │                     3 │         13.043478260869565 │\n",
              "│ Snooty      │                     5 │          21.73913043478261 │\n",
              "│ Peppy       │                     5 │          21.73913043478261 │\n",
              "└─────────────┴───────────────────────┴────────────────────────────┘"
            ]
          },
          "metadata": {},
          "execution_count": 84
        }
      ]
    },
    {
      "cell_type": "code",
      "source": [
        "duckdb.sql(\"SELECT COUNT(*) * 100.0 / (SELECT COUNT(*) FROM villagers_acnh_df ) AS alligator_percentage FROM villagers_acnh_df WHERE species = 'Alligator'\")"
      ],
      "metadata": {
        "colab": {
          "base_uri": "https://localhost:8080/"
        },
        "id": "no8V5ska6ED-",
        "outputId": "c7163460-7c98-4fbf-d014-ce7df83a2b0b"
      },
      "execution_count": 85,
      "outputs": [
        {
          "output_type": "execute_result",
          "data": {
            "text/plain": [
              "┌──────────────────────┐\n",
              "│ alligator_percentage │\n",
              "│        double        │\n",
              "├──────────────────────┤\n",
              "│   1.7902813299232736 │\n",
              "└──────────────────────┘"
            ]
          },
          "metadata": {},
          "execution_count": 85
        }
      ]
    },
    {
      "cell_type": "code",
      "source": [
        "duckdb.sql(\"SELECT name,gender,species,personality,catchphrase FROM villagers_acnh_df WHERE species = 'Alligator'\")"
      ],
      "metadata": {
        "colab": {
          "base_uri": "https://localhost:8080/"
        },
        "id": "QZ2y69A46pSu",
        "outputId": "e78be345-21ad-447d-9995-77fb224d6bab"
      },
      "execution_count": 86,
      "outputs": [
        {
          "output_type": "execute_result",
          "data": {
            "text/plain": [
              "┌─────────┬─────────┬───────────┬─────────────┬─────────────┐\n",
              "│  Name   │ Gender  │  Species  │ Personality │ Catchphrase │\n",
              "│ varchar │ varchar │  varchar  │   varchar   │   varchar   │\n",
              "├─────────┼─────────┼───────────┼─────────────┼─────────────┤\n",
              "│ Alfonso │ Male    │ Alligator │ Lazy        │ it'sa me    │\n",
              "│ Alli    │ Female  │ Alligator │ Snooty      │ graaagh     │\n",
              "│ Boots   │ Male    │ Alligator │ Jock        │ munchie     │\n",
              "│ Del     │ Male    │ Alligator │ Cranky      │ gronk       │\n",
              "│ Drago   │ Male    │ Alligator │ Lazy        │ burrrn      │\n",
              "│ Gayle   │ Female  │ Alligator │ Normal      │ snacky      │\n",
              "│ Sly     │ Male    │ Alligator │ Jock        │ hoo-rah     │\n",
              "└─────────┴─────────┴───────────┴─────────────┴─────────────┘"
            ]
          },
          "metadata": {},
          "execution_count": 86
        }
      ]
    },
    {
      "cell_type": "code",
      "source": [
        "duckdb.sql(\"SELECT name,species,personality,catchphrase FROM villagers_acnh_df ORDER BY species DESC\")"
      ],
      "metadata": {
        "colab": {
          "base_uri": "https://localhost:8080/"
        },
        "id": "mgzA9KHT6500",
        "outputId": "1fe40da2-5f05-4abb-c3a7-10c6b0f5f40c"
      },
      "execution_count": 87,
      "outputs": [
        {
          "output_type": "execute_result",
          "data": {
            "text/plain": [
              "┌──────────┬───────────┬─────────────┬─────────────┐\n",
              "│   Name   │  Species  │ Personality │ Catchphrase │\n",
              "│ varchar  │  varchar  │   varchar   │   varchar   │\n",
              "├──────────┼───────────┼─────────────┼─────────────┤\n",
              "│ Fang     │ Wolf      │ Cranky      │ cha-chomp   │\n",
              "│ Chief    │ Wolf      │ Cranky      │ harrumph    │\n",
              "│ Wolfgang │ Wolf      │ Cranky      │ snarrrl     │\n",
              "│ Lobo     │ Wolf      │ Cranky      │ ah-rooooo   │\n",
              "│ Whitney  │ Wolf      │ Snooty      │ snappy      │\n",
              "│ Vivian   │ Wolf      │ Snooty      │ piffle      │\n",
              "│ Kyle     │ Wolf      │ Smug        │ alpha       │\n",
              "│ Dobie    │ Wolf      │ Cranky      │ ohmmm       │\n",
              "│ Audie    │ Wolf      │ Peppy       │ foxtrot     │\n",
              "│ Freya    │ Wolf      │ Snooty      │ uff da      │\n",
              "│   ·      │  ·        │   ·         │   ·         │\n",
              "│   ·      │  ·        │   ·         │   ·         │\n",
              "│   ·      │  ·        │   ·         │   ·         │\n",
              "│ Annalisa │ Anteater  │ Normal      │ gumdrop     │\n",
              "│ Cyrano   │ Anteater  │ Cranky      │ ah-CHOO     │\n",
              "│ Antonio  │ Anteater  │ Jock        │ honk        │\n",
              "│ Del      │ Alligator │ Cranky      │ gronk       │\n",
              "│ Gayle    │ Alligator │ Normal      │ snacky      │\n",
              "│ Alfonso  │ Alligator │ Lazy        │ it'sa me    │\n",
              "│ Alli     │ Alligator │ Snooty      │ graaagh     │\n",
              "│ Drago    │ Alligator │ Lazy        │ burrrn      │\n",
              "│ Sly      │ Alligator │ Jock        │ hoo-rah     │\n",
              "│ Boots    │ Alligator │ Jock        │ munchie     │\n",
              "├──────────┴───────────┴─────────────┴─────────────┤\n",
              "│ 391 rows (20 shown)                    4 columns │\n",
              "└──────────────────────────────────────────────────┘"
            ]
          },
          "metadata": {},
          "execution_count": 87
        }
      ]
    },
    {
      "cell_type": "code",
      "source": [
        "duckdb.sql(\"SELECT name,species,personality,catchphrase FROM villagers_acnh_df WHERE species = 'Wolf'\")"
      ],
      "metadata": {
        "colab": {
          "base_uri": "https://localhost:8080/"
        },
        "id": "s2BmTL5J7J9H",
        "outputId": "b87b1e63-3090-4f2b-93ce-7d172b820eea"
      },
      "execution_count": 88,
      "outputs": [
        {
          "output_type": "execute_result",
          "data": {
            "text/plain": [
              "┌──────────┬─────────┬─────────────┬─────────────┐\n",
              "│   Name   │ Species │ Personality │ Catchphrase │\n",
              "│ varchar  │ varchar │   varchar   │   varchar   │\n",
              "├──────────┼─────────┼─────────────┼─────────────┤\n",
              "│ Audie    │ Wolf    │ Peppy       │ foxtrot     │\n",
              "│ Chief    │ Wolf    │ Cranky      │ harrumph    │\n",
              "│ Dobie    │ Wolf    │ Cranky      │ ohmmm       │\n",
              "│ Fang     │ Wolf    │ Cranky      │ cha-chomp   │\n",
              "│ Freya    │ Wolf    │ Snooty      │ uff da      │\n",
              "│ Kyle     │ Wolf    │ Smug        │ alpha       │\n",
              "│ Lobo     │ Wolf    │ Cranky      │ ah-rooooo   │\n",
              "│ Skye     │ Wolf    │ Normal      │ airmail     │\n",
              "│ Vivian   │ Wolf    │ Snooty      │ piffle      │\n",
              "│ Whitney  │ Wolf    │ Snooty      │ snappy      │\n",
              "│ Wolfgang │ Wolf    │ Cranky      │ snarrrl     │\n",
              "├──────────┴─────────┴─────────────┴─────────────┤\n",
              "│ 11 rows                              4 columns │\n",
              "└────────────────────────────────────────────────┘"
            ]
          },
          "metadata": {},
          "execution_count": 88
        }
      ]
    },
    {
      "cell_type": "code",
      "source": [
        "duckdb.sql(\"SELECT species, COUNT(*) AS species_count, COUNT(*) * 100.0 / (SELECT COUNT(species) FROM villagers_acnh_df ) AS species_percentage FROM villagers_acnh_df GROUP BY species ORDER BY species_count ASC\")"
      ],
      "metadata": {
        "colab": {
          "base_uri": "https://localhost:8080/"
        },
        "id": "_vyOOQxV7hz7",
        "outputId": "517f024a-a5df-4543-c216-720a6bf20a4d"
      },
      "execution_count": 89,
      "outputs": [
        {
          "output_type": "execute_result",
          "data": {
            "text/plain": [
              "┌───────────┬───────────────┬────────────────────┐\n",
              "│  Species  │ species_count │ species_percentage │\n",
              "│  varchar  │     int64     │       double       │\n",
              "├───────────┼───────────────┼────────────────────┤\n",
              "│ Octopus   │             3 │ 0.7672634271099744 │\n",
              "│ Cow       │             4 │ 1.0230179028132993 │\n",
              "│ Bull      │             6 │ 1.5345268542199488 │\n",
              "│ Rhino     │             6 │ 1.5345268542199488 │\n",
              "│ Anteater  │             7 │ 1.7902813299232736 │\n",
              "│ Hippo     │             7 │ 1.7902813299232736 │\n",
              "│ Lion      │             7 │ 1.7902813299232736 │\n",
              "│ Alligator │             7 │ 1.7902813299232736 │\n",
              "│ Tiger     │             7 │ 1.7902813299232736 │\n",
              "│ Hamster   │             8 │ 2.0460358056265986 │\n",
              "│   ·       │             · │          ·         │\n",
              "│   ·       │             · │          ·         │\n",
              "│   ·       │             · │          ·         │\n",
              "│ Mouse     │            15 │  3.836317135549872 │\n",
              "│ Horse     │            15 │  3.836317135549872 │\n",
              "│ Bear      │            15 │  3.836317135549872 │\n",
              "│ Dog       │            16 │  4.092071611253197 │\n",
              "│ Cub       │            16 │  4.092071611253197 │\n",
              "│ Duck      │            17 │ 4.3478260869565215 │\n",
              "│ Squirrel  │            18 │  4.603580562659847 │\n",
              "│ Frog      │            18 │  4.603580562659847 │\n",
              "│ Rabbit    │            20 │  5.115089514066496 │\n",
              "│ Cat       │            23 │  5.882352941176471 │\n",
              "├───────────┴───────────────┴────────────────────┤\n",
              "│ 35 rows (20 shown)                   3 columns │\n",
              "└────────────────────────────────────────────────┘"
            ]
          },
          "metadata": {},
          "execution_count": 89
        }
      ]
    },
    {
      "cell_type": "code",
      "source": [
        "duckdb.sql(\"SELECT name,gender,species,personality,catchphrase,hobby FROM villagers_acnh_df WHERE hobby = 'Fitness' AND species = 'Gorilla' OR hobby = 'Fitness' AND species = 'Rabbit' \")"
      ],
      "metadata": {
        "colab": {
          "base_uri": "https://localhost:8080/"
        },
        "id": "SlnMJDv_-i9M",
        "outputId": "90a7eb8a-58a1-4034-ee6f-0e7609577718"
      },
      "execution_count": 90,
      "outputs": [
        {
          "output_type": "execute_result",
          "data": {
            "text/plain": [
              "┌─────────┬─────────┬─────────┬─────────────┬─────────────────┬─────────┐\n",
              "│  Name   │ Gender  │ Species │ Personality │   Catchphrase   │  Hobby  │\n",
              "│ varchar │ varchar │ varchar │   varchar   │     varchar     │ varchar │\n",
              "├─────────┼─────────┼─────────┼─────────────┼─────────────────┼─────────┤\n",
              "│ Al      │ Male    │ Gorilla │ Lazy        │ ayyyeee         │ Fitness │\n",
              "│ Boone   │ Male    │ Gorilla │ Jock        │ baboom          │ Fitness │\n",
              "│ Boyd    │ Male    │ Gorilla │ Cranky      │ uh-oh           │ Fitness │\n",
              "│ Cesar   │ Male    │ Gorilla │ Cranky      │ highness        │ Fitness │\n",
              "│ Hans    │ Male    │ Gorilla │ Smug        │ groovy          │ Fitness │\n",
              "│ Louie   │ Male    │ Gorilla │ Jock        │ hoo hoo ha      │ Fitness │\n",
              "│ Peewee  │ Male    │ Gorilla │ Cranky      │ li'l bitty baby │ Fitness │\n",
              "│ Rocket  │ Female  │ Gorilla │ Big Sister  │ vroom           │ Fitness │\n",
              "│ Violet  │ Female  │ Gorilla │ Snooty      │ sweetie         │ Fitness │\n",
              "│ Genji   │ Male    │ Rabbit  │ Jock        │ mochi           │ Fitness │\n",
              "│ Mira    │ Female  │ Rabbit  │ Big Sister  │ cottontail      │ Fitness │\n",
              "│ Snake   │ Male    │ Rabbit  │ Jock        │ bunyip          │ Fitness │\n",
              "├─────────┴─────────┴─────────┴─────────────┴─────────────────┴─────────┤\n",
              "│ 12 rows                                                     6 columns │\n",
              "└───────────────────────────────────────────────────────────────────────┘"
            ]
          },
          "metadata": {},
          "execution_count": 90
        }
      ]
    }
  ]
}